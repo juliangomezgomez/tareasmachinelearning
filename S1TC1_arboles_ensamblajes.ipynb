{
 "cells": [
  {
   "cell_type": "markdown",
   "metadata": {},
   "source": [
    "![image info](https://raw.githubusercontent.com/albahnsen/MIAD_ML_and_NLP/main/images/banner_1.png)"
   ]
  },
  {
   "cell_type": "markdown",
   "metadata": {},
   "source": [
    "# Taller: Construcción e implementación de árboles de decisión y métodos de ensamblaje\n",
    "\n",
    "En este taller podrá poner en práctica los sus conocimientos sobre construcción e implementación de árboles de decisión y métodos de ensamblajes. El taller está constituido por 9 puntos, 5 relacionados con árboles de decisión (parte A) y 4 con métodos de ensamblaje (parte B)."
   ]
  },
  {
   "cell_type": "markdown",
   "metadata": {},
   "source": [
    "## Parte A - Árboles de decisión\n",
    "\n",
    "En esta parte del taller se usará el conjunto de datos de Capital Bikeshare de Kaggle, donde cada observación representa el alquiler de bicicletas durante una hora y día determinado. Para más detalles puede visitar los siguientes enlaces: [datos](https://archive.ics.uci.edu/ml/machine-learning-databases/00275/Bike-Sharing-Dataset.zip), [dicccionario de datos](https://archive.ics.uci.edu/ml/datasets/Bike+Sharing+Dataset#)."
   ]
  },
  {
   "cell_type": "markdown",
   "metadata": {},
   "source": [
    "### Datos prestamo de bicicletas"
   ]
  },
  {
   "cell_type": "code",
   "execution_count": 131,
   "metadata": {},
   "outputs": [],
   "source": [
    "import warnings\n",
    "warnings.filterwarnings('ignore')"
   ]
  },
  {
   "cell_type": "code",
   "execution_count": null,
   "metadata": {},
   "outputs": [],
   "source": []
  },
  {
   "cell_type": "code",
   "execution_count": null,
   "metadata": {},
   "outputs": [],
   "source": []
  },
  {
   "cell_type": "code",
   "execution_count": 133,
   "metadata": {},
   "outputs": [],
   "source": [
    "# Importación de librerías\n",
    "%matplotlib inline\n",
    "import pandas as pd\n",
    "import numpy as np\n",
    "from sklearn.model_selection import cross_val_score\n",
    "from sklearn.linear_model import LinearRegression\n",
    "from sklearn.tree import DecisionTreeRegressor, export_graphviz\n"
   ]
  },
  {
   "cell_type": "code",
   "execution_count": null,
   "metadata": {},
   "outputs": [],
   "source": []
  },
  {
   "cell_type": "code",
   "execution_count": null,
   "metadata": {},
   "outputs": [],
   "source": []
  },
  {
   "cell_type": "code",
   "execution_count": null,
   "metadata": {},
   "outputs": [],
   "source": []
  },
  {
   "cell_type": "code",
   "execution_count": 134,
   "metadata": {},
   "outputs": [
    {
     "data": {
      "text/html": [
       "<div>\n",
       "<style scoped>\n",
       "    .dataframe tbody tr th:only-of-type {\n",
       "        vertical-align: middle;\n",
       "    }\n",
       "\n",
       "    .dataframe tbody tr th {\n",
       "        vertical-align: top;\n",
       "    }\n",
       "\n",
       "    .dataframe thead th {\n",
       "        text-align: right;\n",
       "    }\n",
       "</style>\n",
       "<table border=\"1\" class=\"dataframe\">\n",
       "  <thead>\n",
       "    <tr style=\"text-align: right;\">\n",
       "      <th></th>\n",
       "      <th>season</th>\n",
       "      <th>holiday</th>\n",
       "      <th>workingday</th>\n",
       "      <th>weather</th>\n",
       "      <th>temp</th>\n",
       "      <th>atemp</th>\n",
       "      <th>humidity</th>\n",
       "      <th>windspeed</th>\n",
       "      <th>casual</th>\n",
       "      <th>registered</th>\n",
       "      <th>total</th>\n",
       "      <th>hour</th>\n",
       "    </tr>\n",
       "    <tr>\n",
       "      <th>datetime</th>\n",
       "      <th></th>\n",
       "      <th></th>\n",
       "      <th></th>\n",
       "      <th></th>\n",
       "      <th></th>\n",
       "      <th></th>\n",
       "      <th></th>\n",
       "      <th></th>\n",
       "      <th></th>\n",
       "      <th></th>\n",
       "      <th></th>\n",
       "      <th></th>\n",
       "    </tr>\n",
       "  </thead>\n",
       "  <tbody>\n",
       "    <tr>\n",
       "      <th>2011-01-01 00:00:00</th>\n",
       "      <td>1</td>\n",
       "      <td>0</td>\n",
       "      <td>0</td>\n",
       "      <td>1</td>\n",
       "      <td>9.84</td>\n",
       "      <td>14.395</td>\n",
       "      <td>81</td>\n",
       "      <td>0.0</td>\n",
       "      <td>3</td>\n",
       "      <td>13</td>\n",
       "      <td>16</td>\n",
       "      <td>0</td>\n",
       "    </tr>\n",
       "    <tr>\n",
       "      <th>2011-01-01 01:00:00</th>\n",
       "      <td>1</td>\n",
       "      <td>0</td>\n",
       "      <td>0</td>\n",
       "      <td>1</td>\n",
       "      <td>9.02</td>\n",
       "      <td>13.635</td>\n",
       "      <td>80</td>\n",
       "      <td>0.0</td>\n",
       "      <td>8</td>\n",
       "      <td>32</td>\n",
       "      <td>40</td>\n",
       "      <td>1</td>\n",
       "    </tr>\n",
       "    <tr>\n",
       "      <th>2011-01-01 02:00:00</th>\n",
       "      <td>1</td>\n",
       "      <td>0</td>\n",
       "      <td>0</td>\n",
       "      <td>1</td>\n",
       "      <td>9.02</td>\n",
       "      <td>13.635</td>\n",
       "      <td>80</td>\n",
       "      <td>0.0</td>\n",
       "      <td>5</td>\n",
       "      <td>27</td>\n",
       "      <td>32</td>\n",
       "      <td>2</td>\n",
       "    </tr>\n",
       "    <tr>\n",
       "      <th>2011-01-01 03:00:00</th>\n",
       "      <td>1</td>\n",
       "      <td>0</td>\n",
       "      <td>0</td>\n",
       "      <td>1</td>\n",
       "      <td>9.84</td>\n",
       "      <td>14.395</td>\n",
       "      <td>75</td>\n",
       "      <td>0.0</td>\n",
       "      <td>3</td>\n",
       "      <td>10</td>\n",
       "      <td>13</td>\n",
       "      <td>3</td>\n",
       "    </tr>\n",
       "    <tr>\n",
       "      <th>2011-01-01 04:00:00</th>\n",
       "      <td>1</td>\n",
       "      <td>0</td>\n",
       "      <td>0</td>\n",
       "      <td>1</td>\n",
       "      <td>9.84</td>\n",
       "      <td>14.395</td>\n",
       "      <td>75</td>\n",
       "      <td>0.0</td>\n",
       "      <td>0</td>\n",
       "      <td>1</td>\n",
       "      <td>1</td>\n",
       "      <td>4</td>\n",
       "    </tr>\n",
       "  </tbody>\n",
       "</table>\n",
       "</div>"
      ],
      "text/plain": [
       "                     season  holiday  workingday  weather  temp   atemp  \\\n",
       "datetime                                                                  \n",
       "2011-01-01 00:00:00       1        0           0        1  9.84  14.395   \n",
       "2011-01-01 01:00:00       1        0           0        1  9.02  13.635   \n",
       "2011-01-01 02:00:00       1        0           0        1  9.02  13.635   \n",
       "2011-01-01 03:00:00       1        0           0        1  9.84  14.395   \n",
       "2011-01-01 04:00:00       1        0           0        1  9.84  14.395   \n",
       "\n",
       "                     humidity  windspeed  casual  registered  total  hour  \n",
       "datetime                                                                   \n",
       "2011-01-01 00:00:00        81        0.0       3          13     16     0  \n",
       "2011-01-01 01:00:00        80        0.0       8          32     40     1  \n",
       "2011-01-01 02:00:00        80        0.0       5          27     32     2  \n",
       "2011-01-01 03:00:00        75        0.0       3          10     13     3  \n",
       "2011-01-01 04:00:00        75        0.0       0           1      1     4  "
      ]
     },
     "execution_count": 134,
     "metadata": {},
     "output_type": "execute_result"
    }
   ],
   "source": [
    "# Lectura de la información de archivo .csv\n",
    "bikes = pd.read_csv('https://raw.githubusercontent.com/davidzarruk/MIAD_ML_NLP_2023/main/datasets/bikeshare.csv', index_col='datetime', parse_dates=True)\n",
    "\n",
    "# Renombrar variable \"count\" a \"total\"\n",
    "bikes.rename(columns={'count':'total'}, inplace=True)\n",
    "\n",
    "# Crear la hora como una variable \n",
    "bikes['hour'] = bikes.index.hour\n",
    "\n",
    "# Visualización de los datos\n",
    "bikes.head()"
   ]
  },
  {
   "cell_type": "code",
   "execution_count": null,
   "metadata": {},
   "outputs": [],
   "source": []
  },
  {
   "cell_type": "code",
   "execution_count": null,
   "metadata": {},
   "outputs": [],
   "source": []
  },
  {
   "cell_type": "markdown",
   "metadata": {},
   "source": [
    "### Punto 1 - Análisis descriptivo\n",
    "\n",
    "Ejecute las celdas 1.1 y 1.2. A partir de los resultados realice un análisis descriptivo sobre las variables \"season\" y \"hour\", escriba sus inferencias sobre los datos. Para complementar su análisis puede usar métricas como máximo, mínimo, percentiles entre otros."
   ]
  },
  {
   "cell_type": "code",
   "execution_count": 176,
   "metadata": {},
   "outputs": [
    {
     "name": "stdout",
     "output_type": "stream",
     "text": [
      "promedio_estacion: season\n",
      "1    116.343261\n",
      "2    215.251372\n",
      "3    234.417124\n",
      "4    198.988296\n",
      "Name: total, dtype: float64\n",
      "std_estacion: season\n",
      "1    125.273974\n",
      "2    192.007843\n",
      "3    197.151001\n",
      "4    177.622409\n",
      "Name: total, dtype: float64\n",
      "min_estacion: season\n",
      "1    1\n",
      "2    1\n",
      "3    1\n",
      "4    1\n",
      "Name: total, dtype: int64\n",
      "max_estacion: season\n",
      "1    801\n",
      "2    873\n",
      "3    977\n",
      "4    948\n",
      "Name: total, dtype: int64\n"
     ]
    },
    {
     "data": {
      "text/plain": [
       "<bound method NDFrame.describe of datetime\n",
       "2011-01-01 00:00:00    1\n",
       "2011-01-01 01:00:00    1\n",
       "2011-01-01 02:00:00    1\n",
       "2011-01-01 03:00:00    1\n",
       "2011-01-01 04:00:00    1\n",
       "                      ..\n",
       "2012-12-19 19:00:00    4\n",
       "2012-12-19 20:00:00    4\n",
       "2012-12-19 21:00:00    4\n",
       "2012-12-19 22:00:00    4\n",
       "2012-12-19 23:00:00    4\n",
       "Name: season, Length: 10886, dtype: int64>"
      ]
     },
     "execution_count": 176,
     "metadata": {},
     "output_type": "execute_result"
    }
   ],
   "source": [
    "# Celda 1.1\n",
    "bikes.groupby('season').total.mean()\n",
    "promedio_season=bikes.groupby('season').total.mean()\n",
    "std_season=bikes.groupby('season').total.std()\n",
    "min_season=bikes.groupby('season').total.min()\n",
    "max_season=bikes.groupby('season').total.max()\n",
    "\n",
    "#\n",
    "print(\"promedio_estacion:\",promedio_season)\n",
    "print(\"std_estacion:\",std_season)\n",
    "print(\"min_estacion:\",min_season)\n",
    "print(\"max_estacion:\",max_season)\n"
   ]
  },
  {
   "cell_type": "code",
   "execution_count": null,
   "metadata": {},
   "outputs": [],
   "source": []
  },
  {
   "cell_type": "code",
   "execution_count": null,
   "metadata": {},
   "outputs": [],
   "source": []
  },
  {
   "cell_type": "markdown",
   "metadata": {},
   "source": [
    "Al agruparse la informacion pòr season-estacion se observa que el menor numero de participantes promedio es en la season 1 con 116 y el mayor numero esta en la season 3 con 234, esto se expolica porque la season 1 es invierno en un lugar frio y el mayor uso es en la season 3 en verano. Pues el uso de bicicleta en invierno puede llegar ser incomodo e inseguro mientras que en verano es mucho mejor. el minimo para todas las estaciones es 1 y el maximo es de 977 participantes en verano. "
   ]
  },
  {
   "cell_type": "code",
   "execution_count": null,
   "metadata": {},
   "outputs": [],
   "source": []
  },
  {
   "cell_type": "code",
   "execution_count": null,
   "metadata": {},
   "outputs": [],
   "source": []
  },
  {
   "cell_type": "code",
   "execution_count": null,
   "metadata": {},
   "outputs": [],
   "source": []
  },
  {
   "cell_type": "code",
   "execution_count": null,
   "metadata": {},
   "outputs": [],
   "source": []
  },
  {
   "cell_type": "code",
   "execution_count": 136,
   "metadata": {
    "scrolled": true
   },
   "outputs": [
    {
     "name": "stdout",
     "output_type": "stream",
     "text": [
      "promedio_hora: hour\n",
      "0      55.138462\n",
      "1      33.859031\n",
      "2      22.899554\n",
      "3      11.757506\n",
      "4       6.407240\n",
      "5      19.767699\n",
      "6      76.259341\n",
      "7     213.116484\n",
      "8     362.769231\n",
      "9     221.780220\n",
      "10    175.092308\n",
      "11    210.674725\n",
      "12    256.508772\n",
      "13    257.787281\n",
      "14    243.442982\n",
      "15    254.298246\n",
      "16    316.372807\n",
      "17    468.765351\n",
      "18    430.859649\n",
      "19    315.278509\n",
      "20    228.517544\n",
      "21    173.370614\n",
      "22    133.576754\n",
      "23     89.508772\n",
      "Name: total, dtype: float64\n",
      "std_hora: hour\n",
      "0      43.620012\n",
      "1      34.112105\n",
      "2      26.110267\n",
      "3      12.666442\n",
      "4       4.217633\n",
      "5      12.784293\n",
      "6      54.745333\n",
      "7     159.207044\n",
      "8     231.723065\n",
      "9      92.099209\n",
      "10    101.807629\n",
      "11    127.444294\n",
      "12    143.881880\n",
      "13    149.167185\n",
      "14    147.563199\n",
      "15    144.235670\n",
      "16    145.664786\n",
      "17    223.775485\n",
      "18    219.908138\n",
      "19    156.641732\n",
      "20    116.411565\n",
      "21     87.629319\n",
      "22     69.844495\n",
      "23     51.638004\n",
      "Name: total, dtype: float64\n",
      "min_hora: hour\n",
      "0      2\n",
      "1      1\n",
      "2      1\n",
      "3      1\n",
      "4      1\n",
      "5      1\n",
      "6      1\n",
      "7      1\n",
      "8      8\n",
      "9     14\n",
      "10    17\n",
      "11    10\n",
      "12     3\n",
      "13    11\n",
      "14    12\n",
      "15     7\n",
      "16    11\n",
      "17    15\n",
      "18    23\n",
      "19    11\n",
      "20    11\n",
      "21     6\n",
      "22     9\n",
      "23     4\n",
      "Name: total, dtype: int64\n",
      "max_hora: hour\n",
      "0     283\n",
      "1     168\n",
      "2     119\n",
      "3      66\n",
      "4      28\n",
      "5      57\n",
      "6     213\n",
      "7     596\n",
      "8     839\n",
      "9     414\n",
      "10    539\n",
      "11    647\n",
      "12    757\n",
      "13    729\n",
      "14    730\n",
      "15    724\n",
      "16    783\n",
      "17    970\n",
      "18    977\n",
      "19    743\n",
      "20    551\n",
      "21    584\n",
      "22    502\n",
      "23    256\n",
      "Name: total, dtype: int64\n"
     ]
    }
   ],
   "source": [
    "# Celda 1.2\n",
    "bikes.groupby('hour').total.mean()\n",
    "std_hora=bikes.groupby('hour').total.std()\n",
    "min_hora=bikes.groupby('hour').total.min()\n",
    "max_hora=bikes.groupby('hour').total.max()\n",
    "\n",
    "#\n",
    "print(\"promedio_hora:\",promedio_hora)\n",
    "print(\"std_hora:\",std_hora)\n",
    "print(\"min_hora:\",min_hora)\n",
    "print(\"max_hora:\",max_hora)\n"
   ]
  },
  {
   "cell_type": "code",
   "execution_count": null,
   "metadata": {},
   "outputs": [],
   "source": []
  },
  {
   "cell_type": "markdown",
   "metadata": {},
   "source": [
    "AL observar el promedio por horas se ve claramente como en horas de la noche los participantes disminuyen llegando a un minimo a las 4 de la mañana con 6 participantes lo cual es entendible. El maximo se observa alas 5 de la tarde con 468 paticipantes pues es la hora en que las personas 1- salen del trabajo o 2- quieren salir a recorrer la ciudad en bicicleta. Al observar el reporte de minimos se observa de nuevo la tendencia de menor uso es horas de la madrugada y tres sectores o picos uno de 9 a 11 otro de 13 a 14 horaqs y el toro de 16 a 20 horas, lo cual es entendicle en una ciudad en donde s epude monter en bicicleta de manera segura. Pues estos peridos corresponden a desplazamientos de inicio de trabajo, almuerzo y final del horario laboral. Al observar los maximos se ve que las horas de menor uso corresponden a las horas de la mañana principlamente de 3 a 5 de la mañana, algo eprfectamente logico para este tipo de uso."
   ]
  },
  {
   "cell_type": "markdown",
   "metadata": {},
   "source": [
    "### Punto 2 - Análisis de gráficos\n",
    "\n",
    "Primero ejecute la celda 2.1 y asegúrese de comprender el código y el resultado. Luego, en cada una de celdas 2.2 y 2.3 escriba un código que genere una gráfica del número de bicicletas rentadas promedio para cada valor de la variable \"hour\" (hora) cuando la variable \"season\" es igual a 1 (invierno) e igual a 3 (verano), respectivamente. Analice y escriba sus hallazgos."
   ]
  },
  {
   "cell_type": "code",
   "execution_count": 137,
   "metadata": {},
   "outputs": [
    {
     "data": {
      "text/plain": [
       "<Axes: xlabel='hour'>"
      ]
     },
     "execution_count": 137,
     "metadata": {},
     "output_type": "execute_result"
    },
    {
     "data": {
      "image/png": "[encoded data removed]",
      "text/plain": [
       "<Figure size 640x480 with 1 Axes>"
      ]
     },
     "metadata": {},
     "output_type": "display_data"
    }
   ],
   "source": [
    "# Celda 2.1 - rentas promedio para cada valor de la variable \"hour\"\n",
    "bikes.groupby('hour').total.mean().plot()"
   ]
  },
  {
   "cell_type": "code",
   "execution_count": null,
   "metadata": {},
   "outputs": [],
   "source": []
  },
  {
   "cell_type": "markdown",
   "metadata": {},
   "source": [
    "Se observan tres picos altos, los picos alñtos son descritos mas adelante. y un pico bajo en horas de la madrugada, algo perfectamente entendible pues el poco uso de bicicleta despues de medianoche."
   ]
  },
  {
   "cell_type": "code",
   "execution_count": 138,
   "metadata": {},
   "outputs": [
    {
     "data": {
      "text/plain": [
       "[<matplotlib.lines.Line2D at 0x1c83d993d50>]"
      ]
     },
     "execution_count": 138,
     "metadata": {},
     "output_type": "execute_result"
    },
    {
     "data": {
      "image/png": "[encoded data removed]",
      "text/plain": [
       "<Figure size 1000x600 with 1 Axes>"
      ]
     },
     "metadata": {},
     "output_type": "display_data"
    }
   ],
   "source": [
    "# Celda 2.2 - \"season\"=1 escriba su código y hallazgos \n",
    "import matplotlib.pyplot as plt\n",
    "winter_hora_promedio=bikes[bikes[\"season\"]==1].groupby('hour')['total'].mean()\n",
    "plt.figure(figsize=(10, 6))\n",
    "plt.plot(winter_hora_promedio.index, winter_hora_promedio.values, label='Invierno', marker='o')"
   ]
  },
  {
   "cell_type": "code",
   "execution_count": null,
   "metadata": {},
   "outputs": [],
   "source": []
  },
  {
   "cell_type": "markdown",
   "metadata": {},
   "source": [
    "Al graficar el numero de biciclentas rentadas vs la hora se observa que hay tres picos altoscorrespondientes a als horas de 9-10 am, de 12 a 13 y a partir de las 15 horas, esto como ya se habia emncionado se debe tal vez a la coincidencia de horario de entrar a trabajr, horario de almuerso y horario de salida de oficina. Uno podria inferir que el alto uso de biocicletas indica una ciudad relativamente segura para los usuarios y distancias de la casa al trabajo relativamente cercanas que les permiten montar en bicileta para llegar o salir al trabajo y salir a almorzar."
   ]
  },
  {
   "cell_type": "code",
   "execution_count": null,
   "metadata": {},
   "outputs": [],
   "source": []
  },
  {
   "cell_type": "code",
   "execution_count": null,
   "metadata": {},
   "outputs": [],
   "source": []
  },
  {
   "cell_type": "code",
   "execution_count": 139,
   "metadata": {},
   "outputs": [
    {
     "data": {
      "text/plain": [
       "[<matplotlib.lines.Line2D at 0x1c83d95cd10>]"
      ]
     },
     "execution_count": 139,
     "metadata": {},
     "output_type": "execute_result"
    },
    {
     "data": {
      "image/png": "[encoded data removed]",
      "text/plain": [
       "<Figure size 1000x600 with 1 Axes>"
      ]
     },
     "metadata": {},
     "output_type": "display_data"
    }
   ],
   "source": [
    "# Celda 2.3 - \"season\"=3 escriba su código y hallazgos \n",
    "summer_hora_promedio=bikes[bikes[\"season\"]==3].groupby('hour')['total'].mean()\n",
    "plt.figure(figsize=(10, 6))\n",
    "plt.plot(summer_hora_promedio.index, summer_hora_promedio.values, label='Verano', marker='o')"
   ]
  },
  {
   "cell_type": "code",
   "execution_count": null,
   "metadata": {},
   "outputs": [],
   "source": []
  },
  {
   "cell_type": "markdown",
   "metadata": {},
   "source": [
    "Cuando se compara esta grafica con el horario de invierno se ve que tienen la misma forma por als razones ya explicadas sin embargo el numero total cambia de invierno en la primera grafica a veraqno lo cual se explica facilmente por la severidad del invierno y la disminucion de usario en un clima mas frio."
   ]
  },
  {
   "cell_type": "markdown",
   "metadata": {},
   "source": [
    "### Punto 3 - Regresión lineal\n",
    "En la celda 3 ajuste un modelo de regresión lineal a todo el conjunto de datos, utilizando \"total\" como variable de respuesta y \"season\" y \"hour\" como las únicas variables predictoras, teniendo en cuenta que la variable \"season\" es categórica. Luego, imprima los coeficientes e interprételos. ¿Cuáles son las limitaciones de la regresión lineal en este caso?"
   ]
  },
  {
   "cell_type": "code",
   "execution_count": 143,
   "metadata": {},
   "outputs": [],
   "source": [
    "# Celda 3\n",
    "bikes['season_factorize'] = pd.factorize(bikes.season)[0]"
   ]
  },
  {
   "cell_type": "code",
   "execution_count": 144,
   "metadata": {},
   "outputs": [],
   "source": [
    "from sklearn.model_selection import train_test_split\n",
    "from sklearn.linear_model import LinearRegression\n",
    "from sklearn.metrics import mean_squared_error"
   ]
  },
  {
   "cell_type": "code",
   "execution_count": 145,
   "metadata": {},
   "outputs": [
    {
     "name": "stdout",
     "output_type": "stream",
     "text": [
      "Error cuadrático medio (MSE): 27062.110395300824\n",
      "Coeficientes del modelo:\n",
      "Intercepto: 25.917459052760393\n",
      "Coeficientes: [27.961809   10.72252011]\n"
     ]
    }
   ],
   "source": [
    "# Dividir el DataFrame en conjuntos de entrenamiento y prueba\n",
    "X = bikes[['season_factorize', 'hour']]  # Características\n",
    "y = bikes['total']  # Variable objetivo\n",
    "\n",
    "# Dividir los datos en un 70% para entrenamiento y un 30% para prueba\n",
    "X_train, X_test, y_train, y_test = train_test_split(X, y, test_size=0.3, random_state=42)\n",
    "# Modleo de Regrtsion Lineal\n",
    "modelo.fit(X_train, y_train)\n",
    "predicciones = modelo.predict(X_test)\n",
    "mse = mean_squared_error(y_test, predicciones)\n",
    "print(\"Error cuadrático medio (MSE):\", mse)\n",
    "# Coeficientes del modelo\n",
    "print(\"Coeficientes del modelo:\")\n",
    "print(\"Intercepto:\", modelo.intercept_)\n",
    "print(\"Coeficientes:\", modelo.coef_)"
   ]
  },
  {
   "cell_type": "markdown",
   "metadata": {},
   "source": [
    "Se observa un MSE muy alto lo que indica que las variables hour y season no describen muy bien la variable total. El intercepto es 25 lo que esta un poco alejado del valor minimo de 1 obtenido en los apsos anteriores, algo esperado por el valor tan alto de MSE."
   ]
  },
  {
   "cell_type": "markdown",
   "metadata": {},
   "source": [
    "### Punto 4 - Árbol de decisión manual\n",
    "En la celda 4 cree un árbol de decisiones para pronosticar la variable \"total\" iterando **manualmente** sobre las variables \"hour\" y  \"season\". El árbol debe tener al menos 6 nodos finales."
   ]
  },
  {
   "cell_type": "code",
   "execution_count": 183,
   "metadata": {},
   "outputs": [
    {
     "data": {
      "text/plain": [
       "<Axes: xlabel='hour', ylabel='total'>"
      ]
     },
     "execution_count": 183,
     "metadata": {},
     "output_type": "execute_result"
    },
    {
     "data": {
      "image/png": "[encoded data removed]",
      "text/plain": [
       "<Figure size 640x480 with 2 Axes>"
      ]
     },
     "metadata": {},
     "output_type": "display_data"
    }
   ],
   "source": [
    "# Celda 4\n",
    "# Gráfica \n",
    "%matplotlib inline\n",
    "import matplotlib.pyplot as plt\n",
    "plt.style.use('fivethirtyeight')\n",
    "bikes.plot(kind='scatter', x='hour', y='total', c='season_factorize', colormap='jet', xlim=(0, 25), ylim=(0, 800))\n"
   ]
  },
  {
   "cell_type": "code",
   "execution_count": null,
   "metadata": {},
   "outputs": [],
   "source": []
  },
  {
   "cell_type": "code",
   "execution_count": null,
   "metadata": {},
   "outputs": [],
   "source": []
  },
  {
   "cell_type": "code",
   "execution_count": 184,
   "metadata": {},
   "outputs": [
    {
     "name": "stdout",
     "output_type": "stream",
     "text": [
      "n_tokens_title\n"
     ]
    }
   ],
   "source": [
    "# Definición de parámetros y criterios de parada\n",
    "max_depth = 6\n",
    "num_pct = 10\n",
    "max_features = None\n",
    "min_gain=0.001\n",
    "# Impresión variable a usar (Hits)\n",
    "j = 1\n",
    "print(X.columns[j])\n"
   ]
  },
  {
   "cell_type": "code",
   "execution_count": null,
   "metadata": {},
   "outputs": [],
   "source": []
  },
  {
   "cell_type": "code",
   "execution_count": null,
   "metadata": {},
   "outputs": [],
   "source": []
  },
  {
   "cell_type": "code",
   "execution_count": 185,
   "metadata": {},
   "outputs": [
    {
     "data": {
      "text/plain": [
       "array([ 3.,  8.,  9., 10., 11., 12., 13.])"
      ]
     },
     "execution_count": 185,
     "metadata": {},
     "output_type": "execute_result"
    }
   ],
   "source": [
    "# División de la variable Hits en num_ctp puntos (parámetro definido anteriormente) para obtener posibles puntos de corte\n",
    "splits = np.percentile(X.iloc[:, j], np.arange(0, 100, 100.0 / num_pct).tolist())\n",
    "splits = np.unique(splits)\n",
    "splits"
   ]
  },
  {
   "cell_type": "code",
   "execution_count": null,
   "metadata": {},
   "outputs": [],
   "source": []
  },
  {
   "cell_type": "code",
   "execution_count": null,
   "metadata": {},
   "outputs": [],
   "source": []
  },
  {
   "cell_type": "code",
   "execution_count": 186,
   "metadata": {},
   "outputs": [],
   "source": [
    "# División de las observaciones usando el punto de corte en la posición 5 de la lista de splits\n",
    "k=5\n",
    "filter_l = X.iloc[:, j] < splits[k]\n",
    "\n",
    "# División de la variable de respuesta de acuerdo a si la observación cumple o no con la regla binaria\n",
    "# y_l: la observación tiene un valor menor al punto de corte seleccionado\n",
    "# y_r: la observación tiene un valor mayor o igual al punto de corte seleccionado\n",
    "y_l = y.loc[filter_l]\n",
    "y_r = y.loc[~filter_l]"
   ]
  },
  {
   "cell_type": "code",
   "execution_count": null,
   "metadata": {},
   "outputs": [],
   "source": []
  },
  {
   "cell_type": "code",
   "execution_count": null,
   "metadata": {},
   "outputs": [],
   "source": []
  },
  {
   "cell_type": "code",
   "execution_count": 187,
   "metadata": {},
   "outputs": [],
   "source": [
    "# Definición de la función que calcula el gini index\n",
    "def gini(y):\n",
    "    if y.shape[0] == 0:\n",
    "        return 0\n",
    "    else:\n",
    "        return 1 - (y.mean()**2 + (1 - y.mean())**2)"
   ]
  },
  {
   "cell_type": "code",
   "execution_count": null,
   "metadata": {},
   "outputs": [],
   "source": []
  },
  {
   "cell_type": "code",
   "execution_count": null,
   "metadata": {},
   "outputs": [],
   "source": []
  },
  {
   "cell_type": "code",
   "execution_count": 188,
   "metadata": {},
   "outputs": [
    {
     "data": {
      "text/plain": [
       "0.49993722979387833"
      ]
     },
     "execution_count": 188,
     "metadata": {},
     "output_type": "execute_result"
    }
   ],
   "source": [
    "# Gini index de las observaciones que tienen un valor menor al punto de corte seleccionado\n",
    "gini_l = gini(y_l)\n",
    "gini_l"
   ]
  },
  {
   "cell_type": "code",
   "execution_count": null,
   "metadata": {},
   "outputs": [],
   "source": []
  },
  {
   "cell_type": "code",
   "execution_count": null,
   "metadata": {},
   "outputs": [],
   "source": []
  },
  {
   "cell_type": "code",
   "execution_count": 189,
   "metadata": {},
   "outputs": [
    {
     "data": {
      "text/plain": [
       "0.4996087828255661"
      ]
     },
     "execution_count": 189,
     "metadata": {},
     "output_type": "execute_result"
    }
   ],
   "source": [
    "# Gini index de las observaciones que tienen un valor mayor o igual al punto de corte seleccionado\n",
    "gini_r = gini(y_r)\n",
    "gini_r"
   ]
  },
  {
   "cell_type": "code",
   "execution_count": null,
   "metadata": {},
   "outputs": [],
   "source": []
  },
  {
   "cell_type": "code",
   "execution_count": null,
   "metadata": {},
   "outputs": [],
   "source": []
  },
  {
   "cell_type": "code",
   "execution_count": 190,
   "metadata": {},
   "outputs": [],
   "source": [
    "# Definición de la función gini_imputiry para calular la ganancia de una variable predictora j dado el punto de corte k\n",
    "def gini_impurity(X_col, y, split):\n",
    "    \n",
    "    filter_l = X_col < split\n",
    "    y_l = y.loc[filter_l]\n",
    "    y_r = y.loc[~filter_l]\n",
    "    \n",
    "    n_l = y_l.shape[0]\n",
    "    n_r = y_r.shape[0]\n",
    "    \n",
    "    gini_y = gini(y)\n",
    "    gini_l = gini(y_l)\n",
    "    gini_r = gini(y_r)\n",
    "    \n",
    "    gini_impurity_ = gini_y - (n_l / (n_l + n_r) * gini_l + n_r / (n_l + n_r) * gini_r)\n",
    "    \n",
    "    return gini_impurity_"
   ]
  },
  {
   "cell_type": "code",
   "execution_count": null,
   "metadata": {},
   "outputs": [],
   "source": []
  },
  {
   "cell_type": "code",
   "execution_count": null,
   "metadata": {},
   "outputs": [],
   "source": []
  },
  {
   "cell_type": "code",
   "execution_count": 191,
   "metadata": {},
   "outputs": [
    {
     "data": {
      "text/plain": [
       "0.00015670603905898473"
      ]
     },
     "execution_count": 191,
     "metadata": {},
     "output_type": "execute_result"
    }
   ],
   "source": [
    "# Ganancia de la variable 'Hits' en el punto de corte selecionado\n",
    "gini_impurity(X.iloc[:, j], y, splits[k])"
   ]
  },
  {
   "cell_type": "code",
   "execution_count": null,
   "metadata": {},
   "outputs": [],
   "source": []
  },
  {
   "cell_type": "code",
   "execution_count": null,
   "metadata": {},
   "outputs": [],
   "source": []
  },
  {
   "cell_type": "code",
   "execution_count": 192,
   "metadata": {},
   "outputs": [],
   "source": [
    "# Definición de la función best_split para calcular cuál es la mejor variable y punto de cortepara hacer la bifurcación del árbol\n",
    "def best_split(X, y, num_pct=10):\n",
    "    \n",
    "    features = range(X.shape[1])\n",
    "    \n",
    "    best_split = [0, 0, 0]  # j, split, gain\n",
    "    \n",
    "    # Para todas las varibles \n",
    "    for j in features:\n",
    "        \n",
    "        splits = np.percentile(X.iloc[:, j], np.arange(0, 100, 100.0 / (num_pct+1)).tolist())\n",
    "        splits = np.unique(splits)[1:]\n",
    "        \n",
    "        # Para cada partición\n",
    "        for split in splits:\n",
    "            gain = gini_impurity(X.iloc[:, j], y, split)\n",
    "                        \n",
    "            if gain > best_split[2]:\n",
    "                best_split = [j, split, gain]\n",
    "    \n",
    "    return best_split"
   ]
  },
  {
   "cell_type": "code",
   "execution_count": null,
   "metadata": {},
   "outputs": [],
   "source": []
  },
  {
   "cell_type": "code",
   "execution_count": null,
   "metadata": {},
   "outputs": [],
   "source": []
  },
  {
   "cell_type": "code",
   "execution_count": 193,
   "metadata": {},
   "outputs": [
    {
     "data": {
      "text/plain": [
       "(26, 3120.62347544, 0.035912000000000055)"
      ]
     },
     "execution_count": 193,
     "metadata": {},
     "output_type": "execute_result"
    }
   ],
   "source": [
    "# Obtención de la variable 'j', su punto de corte 'split' y su ganancia 'gain'\n",
    "j, split, gain = best_split(X, y, 5)\n",
    "j, split, gain"
   ]
  },
  {
   "cell_type": "code",
   "execution_count": null,
   "metadata": {},
   "outputs": [],
   "source": []
  },
  {
   "cell_type": "code",
   "execution_count": null,
   "metadata": {},
   "outputs": [],
   "source": []
  },
  {
   "cell_type": "code",
   "execution_count": 194,
   "metadata": {},
   "outputs": [],
   "source": [
    "# División de las observaciones usando la mejor variable 'j' y su punto de corte 'split'\n",
    "filter_l = X.iloc[:, j] < split\n",
    "\n",
    "y_l = y.loc[filter_l]\n",
    "y_r = y.loc[~filter_l]"
   ]
  },
  {
   "cell_type": "code",
   "execution_count": null,
   "metadata": {},
   "outputs": [],
   "source": []
  },
  {
   "cell_type": "code",
   "execution_count": null,
   "metadata": {},
   "outputs": [],
   "source": []
  },
  {
   "cell_type": "code",
   "execution_count": 195,
   "metadata": {},
   "outputs": [
    {
     "data": {
      "text/plain": [
       "(6000, 3000, 3000)"
      ]
     },
     "execution_count": 195,
     "metadata": {},
     "output_type": "execute_result"
    }
   ],
   "source": [
    "y.shape[0], y_l.shape[0], y_r.shape[0]"
   ]
  },
  {
   "cell_type": "code",
   "execution_count": null,
   "metadata": {},
   "outputs": [],
   "source": []
  },
  {
   "cell_type": "code",
   "execution_count": null,
   "metadata": {},
   "outputs": [],
   "source": []
  },
  {
   "cell_type": "code",
   "execution_count": 196,
   "metadata": {},
   "outputs": [
    {
     "data": {
      "text/plain": [
       "(0.5, 0.366, 0.634)"
      ]
     },
     "execution_count": 196,
     "metadata": {},
     "output_type": "execute_result"
    }
   ],
   "source": [
    "y.mean(), y_l.mean(), y_r.mean()"
   ]
  },
  {
   "cell_type": "code",
   "execution_count": null,
   "metadata": {},
   "outputs": [],
   "source": []
  },
  {
   "cell_type": "code",
   "execution_count": null,
   "metadata": {},
   "outputs": [],
   "source": []
  },
  {
   "cell_type": "code",
   "execution_count": 197,
   "metadata": {},
   "outputs": [],
   "source": [
    "# Definición de la función tree_grow para hacer un crecimiento recursivo del árbol\n",
    "def tree_grow(X, y, level=0, min_gain=0.001, max_depth=6, num_pct=10):\n",
    "    \n",
    "    # Si solo es una observación\n",
    "    if X.shape[0] == 1:\n",
    "        tree = dict(y_pred=y.iloc[:1].values[0], y_prob=0.5, level=level, split=-1, n_samples=1, gain=0)\n",
    "        return tree\n",
    "    \n",
    "    # Calcular la mejor división\n",
    "    j, split, gain = best_split(X, y, num_pct)\n",
    "    \n",
    "    # Guardar el árbol y estimar la predicción\n",
    "    y_pred = int(y.mean() >= 0.5) \n",
    "    y_prob = (y.sum() + 1.0) / (y.shape[0] + 2.0)  # Corrección Laplace \n",
    "    \n",
    "    tree = dict(y_pred=y_pred, y_prob=y_prob, level=level, split=-1, n_samples=X.shape[0], gain=gain)\n",
    "    # Revisar el criterio de parada \n",
    "    if gain < min_gain:\n",
    "        return tree\n",
    "    if max_depth is not None:\n",
    "        if level >= max_depth:\n",
    "            return tree   \n",
    "    \n",
    "    # Continuar creando la partición\n",
    "    filter_l = X.iloc[:, j] < split\n",
    "    X_l, y_l = X.loc[filter_l], y.loc[filter_l]\n",
    "    X_r, y_r = X.loc[~filter_l], y.loc[~filter_l]\n",
    "    tree['split'] = [j, split]\n",
    "\n",
    "    # Siguiente iteración para cada partición\n",
    "    \n",
    "    tree['sl'] = tree_grow(X_l, y_l, level + 1, min_gain=min_gain, max_depth=max_depth, num_pct=num_pct)\n",
    "    tree['sr'] = tree_grow(X_r, y_r, level + 1, min_gain=min_gain, max_depth=max_depth, num_pct=num_pct)\n",
    "    \n",
    "    return tree"
   ]
  },
  {
   "cell_type": "code",
   "execution_count": null,
   "metadata": {},
   "outputs": [],
   "source": []
  },
  {
   "cell_type": "code",
   "execution_count": null,
   "metadata": {},
   "outputs": [],
   "source": []
  },
  {
   "cell_type": "code",
   "execution_count": null,
   "metadata": {},
   "outputs": [],
   "source": []
  },
  {
   "cell_type": "code",
   "execution_count": null,
   "metadata": {},
   "outputs": [],
   "source": []
  },
  {
   "cell_type": "code",
   "execution_count": 198,
   "metadata": {},
   "outputs": [
    {
     "data": {
      "text/plain": [
       "{'y_pred': 1,\n",
       " 'y_prob': 0.5,\n",
       " 'level': 0,\n",
       " 'split': [26, 2980.6923531436364],\n",
       " 'n_samples': 6000,\n",
       " 'gain': 0.0348732856787054,\n",
       " 'sl': {'y_pred': 0,\n",
       "  'y_prob': 0.35544155368266767,\n",
       "  'level': 1,\n",
       "  'split': [21, 920.0909090909092],\n",
       "  'n_samples': 2727,\n",
       "  'gain': 0.008693191616418905,\n",
       "  'sl': {'y_pred': 0,\n",
       "   'y_prob': 0.4052964881980426,\n",
       "   'level': 2,\n",
       "   'split': [25, 3572.437025628182],\n",
       "   'n_samples': 1735,\n",
       "   'gain': 0.010920047130314081,\n",
       "   'sl': {'y_pred': 0,\n",
       "    'y_prob': 0.3080568720379147,\n",
       "    'level': 3,\n",
       "    'split': [22, 690400.0],\n",
       "    'n_samples': 631,\n",
       "    'gain': 0.01313875257134478,\n",
       "    'sl': {'y_pred': 0,\n",
       "     'y_prob': 0.4225352112676056,\n",
       "     'level': 4,\n",
       "     'split': [42, 0.028834432136454546],\n",
       "     'n_samples': 211,\n",
       "     'gain': 0.021794409040981455,\n",
       "     'sl': {'y_pred': 1,\n",
       "      'y_prob': 0.6341463414634146,\n",
       "      'level': 5,\n",
       "      'split': [55, 0.9772727272727273],\n",
       "      'n_samples': 39,\n",
       "      'gain': 0.09392317084624768,\n",
       "      'sl': {'y_pred': 1,\n",
       "       'y_prob': 0.7027027027027027,\n",
       "       'level': 6,\n",
       "       'split': -1,\n",
       "       'n_samples': 35,\n",
       "       'gain': 0.09183673469387743},\n",
       "      'sr': {'y_pred': 0,\n",
       "       'y_prob': 0.16666666666666666,\n",
       "       'level': 6,\n",
       "       'split': -1,\n",
       "       'n_samples': 4,\n",
       "       'gain': 0}},\n",
       "     'sr': {'y_pred': 0,\n",
       "      'y_prob': 0.3735632183908046,\n",
       "      'level': 5,\n",
       "      'split': [28, 3163.6363636363626],\n",
       "      'n_samples': 172,\n",
       "      'gain': 0.026607843707094014,\n",
       "      'sl': {'y_pred': 0,\n",
       "       'y_prob': 0.2882882882882883,\n",
       "       'level': 6,\n",
       "       'split': -1,\n",
       "       'n_samples': 109,\n",
       "       'gain': 0.03179379084130196},\n",
       "      'sr': {'y_pred': 1,\n",
       "       'y_prob': 0.5230769230769231,\n",
       "       'level': 6,\n",
       "       'split': -1,\n",
       "       'n_samples': 63,\n",
       "       'gain': 0.054647146214807873}}},\n",
       "    'sr': {'y_pred': 0,\n",
       "     'y_prob': 0.25118483412322273,\n",
       "     'level': 4,\n",
       "     'split': [42, 0.8003770271534545],\n",
       "     'n_samples': 420,\n",
       "     'gain': 0.011516589272494882,\n",
       "     'sl': {'y_pred': 0,\n",
       "      'y_prob': 0.22715404699738903,\n",
       "      'level': 5,\n",
       "      'split': [23, 298172.7272727273],\n",
       "      'n_samples': 381,\n",
       "      'gain': 0.008824096370185108,\n",
       "      'sl': {'y_pred': 0,\n",
       "       'y_prob': 0.25878594249201275,\n",
       "       'level': 6,\n",
       "       'split': -1,\n",
       "       'n_samples': 311,\n",
       "       'gain': 0.010460778554631733},\n",
       "      'sr': {'y_pred': 0,\n",
       "       'y_prob': 0.09722222222222222,\n",
       "       'level': 6,\n",
       "       'split': -1,\n",
       "       'n_samples': 70,\n",
       "       'gain': 0.021591836734693892}},\n",
       "     'sr': {'y_pred': 0,\n",
       "      'y_prob': 0.4878048780487805,\n",
       "      'level': 5,\n",
       "      'split': [47, 0.7586580086581818],\n",
       "      'n_samples': 39,\n",
       "      'gain': 0.0751698444006137,\n",
       "      'sl': {'y_pred': 1,\n",
       "       'y_prob': 0.6521739130434783,\n",
       "       'level': 6,\n",
       "       'split': -1,\n",
       "       'n_samples': 21,\n",
       "       'gain': 0.202020202020202},\n",
       "      'sr': {'y_pred': 0,\n",
       "       'y_prob': 0.3,\n",
       "       'level': 6,\n",
       "       'split': -1,\n",
       "       'n_samples': 18,\n",
       "       'gain': 0.20978157644824327}}}},\n",
       "   'sr': {'y_pred': 0,\n",
       "    'y_prob': 0.46112115732368897,\n",
       "    'level': 3,\n",
       "    'split': [28, 7300.0],\n",
       "    'n_samples': 1104,\n",
       "    'gain': 0.006831363870773988,\n",
       "    'sl': {'y_pred': 0,\n",
       "     'y_prob': 0.4253731343283582,\n",
       "     'level': 4,\n",
       "     'split': [23, 151866.6666666364],\n",
       "     'n_samples': 802,\n",
       "     'gain': 0.00897104492445061,\n",
       "     'sl': {'y_pred': 1,\n",
       "      'y_prob': 0.5136054421768708,\n",
       "      'level': 5,\n",
       "      'split': [55, 0.9],\n",
       "      'n_samples': 292,\n",
       "      'gain': 0.02008739446579555,\n",
       "      'sl': {'y_pred': 0,\n",
       "       'y_prob': 0.48120300751879697,\n",
       "       'level': 6,\n",
       "       'split': -1,\n",
       "       'n_samples': 264,\n",
       "       'gain': 0.01792143270651181},\n",
       "      'sr': {'y_pred': 1,\n",
       "       'y_prob': 0.8,\n",
       "       'level': 6,\n",
       "       'split': -1,\n",
       "       'n_samples': 28,\n",
       "       'gain': 0.16790150842945897}},\n",
       "     'sr': {'y_pred': 0,\n",
       "      'y_prob': 0.375,\n",
       "      'level': 5,\n",
       "      'split': [25, 6043.2510488981825],\n",
       "      'n_samples': 510,\n",
       "      'gain': 0.014127234630182006,\n",
       "      'sl': {'y_pred': 0,\n",
       "       'y_prob': 0.34838709677419355,\n",
       "       'level': 6,\n",
       "       'split': -1,\n",
       "       'n_samples': 463,\n",
       "       'gain': 0.014491777394027294},\n",
       "      'sr': {'y_pred': 1,\n",
       "       'y_prob': 0.6326530612244898,\n",
       "       'level': 6,\n",
       "       'split': -1,\n",
       "       'n_samples': 47,\n",
       "       'gain': 0.09884546132193306}}},\n",
       "    'sr': {'y_pred': 1,\n",
       "     'y_prob': 0.555921052631579,\n",
       "     'level': 4,\n",
       "     'split': [3, 0.39747875967545454],\n",
       "     'n_samples': 302,\n",
       "     'gain': 0.014367418164296653,\n",
       "     'sl': {'y_pred': 1,\n",
       "      'y_prob': 0.8,\n",
       "      'level': 5,\n",
       "      'split': [26, 2762.2012795145456],\n",
       "      'n_samples': 28,\n",
       "      'gain': 0.07721827861579414,\n",
       "      'sl': {'y_pred': 1,\n",
       "       'y_prob': 0.88,\n",
       "       'level': 6,\n",
       "       'split': -1,\n",
       "       'n_samples': 23,\n",
       "       'gain': 0.034566567647853264},\n",
       "      'sr': {'y_pred': 0,\n",
       "       'y_prob': 0.42857142857142855,\n",
       "       'level': 6,\n",
       "       'split': -1,\n",
       "       'n_samples': 5,\n",
       "       'gain': 0.48}},\n",
       "     'sr': {'y_pred': 1,\n",
       "      'y_prob': 0.5289855072463768,\n",
       "      'level': 5,\n",
       "      'split': [39, 0.2923281174074546],\n",
       "      'n_samples': 274,\n",
       "      'gain': 0.015980149638842145,\n",
       "      'sl': {'y_pred': 1,\n",
       "       'y_prob': 0.5707964601769911,\n",
       "       'level': 6,\n",
       "       'split': -1,\n",
       "       'n_samples': 224,\n",
       "       'gain': 0.01885506530358877},\n",
       "      'sr': {'y_pred': 0,\n",
       "       'y_prob': 0.34615384615384615,\n",
       "       'level': 6,\n",
       "       'split': -1,\n",
       "       'n_samples': 50,\n",
       "       'gain': 0.07756847290640406}}}}},\n",
       "  'sr': {'y_pred': 0,\n",
       "   'y_prob': 0.2686116700201207,\n",
       "   'level': 2,\n",
       "   'split': [16, 1.0],\n",
       "   'n_samples': 992,\n",
       "   'gain': 0.014948961407816874,\n",
       "   'sl': {'y_pred': 0,\n",
       "    'y_prob': 0.2192513368983957,\n",
       "    'level': 3,\n",
       "    'split': [0, 268.27272727272737],\n",
       "    'n_samples': 746,\n",
       "    'gain': 0.008398965524290869,\n",
       "    'sl': {'y_pred': 0,\n",
       "     'y_prob': 0.1495601173020528,\n",
       "     'level': 4,\n",
       "     'split': [44, 0.1519938955250909],\n",
       "     'n_samples': 339,\n",
       "     'gain': 0.011311288826826388,\n",
       "     'sl': {'y_pred': 0,\n",
       "      'y_prob': 0.11469534050179211,\n",
       "      'level': 5,\n",
       "      'split': [10, 4.91690429136],\n",
       "      'n_samples': 277,\n",
       "      'gain': 0.005540773296137558,\n",
       "      'sl': {'y_pred': 0,\n",
       "       'y_prob': 0.1477832512315271,\n",
       "       'level': 6,\n",
       "       'split': -1,\n",
       "       'n_samples': 201,\n",
       "       'gain': 0.010489636077329834},\n",
       "      'sr': {'y_pred': 0,\n",
       "       'y_prob': 0.038461538461538464,\n",
       "       'level': 6,\n",
       "       'split': -1,\n",
       "       'n_samples': 76,\n",
       "       'gain': 0.006133755441234547}},\n",
       "     'sr': {'y_pred': 0,\n",
       "      'y_prob': 0.3125,\n",
       "      'level': 5,\n",
       "      'split': [7, 6.0],\n",
       "      'n_samples': 62,\n",
       "      'gain': 0.04233820290011747,\n",
       "      'sl': {'y_pred': 0,\n",
       "       'y_prob': 0.2631578947368421,\n",
       "       'level': 6,\n",
       "       'split': -1,\n",
       "       'n_samples': 55,\n",
       "       'gain': 0.05732231404958693},\n",
       "      'sr': {'y_pred': 1,\n",
       "       'y_prob': 0.6666666666666666,\n",
       "       'level': 6,\n",
       "       'split': -1,\n",
       "       'n_samples': 7,\n",
       "       'gain': 0.40816326530612246}}},\n",
       "    'sr': {'y_pred': 0,\n",
       "     'y_prob': 0.2787286063569682,\n",
       "     'level': 4,\n",
       "     'split': [24, 1675.6311688327273],\n",
       "     'n_samples': 407,\n",
       "     'gain': 0.01673461010070343,\n",
       "     'sl': {'y_pred': 0,\n",
       "      'y_prob': 0.210727969348659,\n",
       "      'level': 5,\n",
       "      'split': [43, 0.4584825062544545],\n",
       "      'n_samples': 259,\n",
       "      'gain': 0.009101992047855778,\n",
       "      'sl': {'y_pred': 0,\n",
       "       'y_prob': 0.16167664670658682,\n",
       "       'level': 6,\n",
       "       'split': -1,\n",
       "       'n_samples': 165,\n",
       "       'gain': 0.013225764134855156},\n",
       "      'sr': {'y_pred': 0,\n",
       "       'y_prob': 0.3020833333333333,\n",
       "       'level': 6,\n",
       "       'split': -1,\n",
       "       'n_samples': 94,\n",
       "       'gain': 0.03850158442734264}},\n",
       "     'sr': {'y_pred': 0,\n",
       "      'y_prob': 0.4,\n",
       "      'level': 5,\n",
       "      'split': [23, 384283.3333335454],\n",
       "      'n_samples': 148,\n",
       "      'gain': 0.02237345828511622,\n",
       "      'sl': {'y_pred': 0,\n",
       "       'y_prob': 0.4338235294117647,\n",
       "       'level': 6,\n",
       "       'split': -1,\n",
       "       'n_samples': 134,\n",
       "       'gain': 0.03171352264289323},\n",
       "      'sr': {'y_pred': 0,\n",
       "       'y_prob': 0.125,\n",
       "       'level': 6,\n",
       "       'split': -1,\n",
       "       'n_samples': 14,\n",
       "       'gain': 0.06122448979591841}}}},\n",
       "   'sr': {'y_pred': 0,\n",
       "    'y_prob': 0.41935483870967744,\n",
       "    'level': 3,\n",
       "    'split': [26, 2742.982702953636],\n",
       "    'n_samples': 246,\n",
       "    'gain': 0.030408036021698892,\n",
       "    'sl': {'y_pred': 0,\n",
       "     'y_prob': 0.3088235294117647,\n",
       "     'level': 4,\n",
       "     'split': [45, 0.030387794024127276],\n",
       "     'n_samples': 134,\n",
       "     'gain': 0.039657593178840767,\n",
       "     'sl': {'y_pred': 1,\n",
       "      'y_prob': 0.5925925925925926,\n",
       "      'level': 5,\n",
       "      'split': [21, 2300.0],\n",
       "      'n_samples': 25,\n",
       "      'gain': 0.11529411764705882,\n",
       "      'sl': {'y_pred': 0,\n",
       "       'y_prob': 0.3,\n",
       "       'level': 6,\n",
       "       'split': -1,\n",
       "       'n_samples': 8,\n",
       "       'gain': 0.375},\n",
       "      'sr': {'y_pred': 1,\n",
       "       'y_prob': 0.7368421052631579,\n",
       "       'level': 6,\n",
       "       'split': -1,\n",
       "       'n_samples': 17,\n",
       "       'gain': 0.15594002306805077}},\n",
       "     'sr': {'y_pred': 0,\n",
       "      'y_prob': 0.24324324324324326,\n",
       "      'level': 5,\n",
       "      'split': [3, 0.39155906564363635],\n",
       "      'n_samples': 109,\n",
       "      'gain': 0.026395764734288507,\n",
       "      'sl': {'y_pred': 1,\n",
       "       'y_prob': 0.5833333333333334,\n",
       "       'level': 6,\n",
       "       'split': -1,\n",
       "       'n_samples': 10,\n",
       "       'gain': 0.3085714285714285},\n",
       "      'sr': {'y_pred': 0,\n",
       "       'y_prob': 0.2079207920792079,\n",
       "       'level': 6,\n",
       "       'split': -1,\n",
       "       'n_samples': 99,\n",
       "       'gain': 0.01975308641975304}}},\n",
       "    'sr': {'y_pred': 1,\n",
       "     'y_prob': 0.5526315789473685,\n",
       "     'level': 4,\n",
       "     'split': [23, 227203.03030336363],\n",
       "     'n_samples': 112,\n",
       "     'gain': 0.043566811970689956,\n",
       "     'sl': {'y_pred': 1,\n",
       "      'y_prob': 0.6825396825396826,\n",
       "      'level': 5,\n",
       "      'split': [47, 0.8131957328385454],\n",
       "      'n_samples': 61,\n",
       "      'gain': 0.061764984097690157,\n",
       "      'sl': {'y_pred': 1,\n",
       "       'y_prob': 0.8048780487804879,\n",
       "       'level': 6,\n",
       "       'split': -1,\n",
       "       'n_samples': 39,\n",
       "       'gain': 0.06720789893866824},\n",
       "      'sr': {'y_pred': 0,\n",
       "       'y_prob': 0.4583333333333333,\n",
       "       'level': 6,\n",
       "       'split': -1,\n",
       "       'n_samples': 22,\n",
       "       'gain': 0.1322314049586778}},\n",
       "     'sr': {'y_pred': 0,\n",
       "      'y_prob': 0.39622641509433965,\n",
       "      'level': 5,\n",
       "      'split': [5, 0.6424911964635455],\n",
       "      'n_samples': 51,\n",
       "      'gain': 0.07852637610423074,\n",
       "      'sl': {'y_pred': 1,\n",
       "       'y_prob': 0.6875,\n",
       "       'level': 6,\n",
       "       'split': -1,\n",
       "       'n_samples': 14,\n",
       "       'gain': 0.217687074829932},\n",
       "      'sr': {'y_pred': 0,\n",
       "       'y_prob': 0.28205128205128205,\n",
       "       'level': 6,\n",
       "       'split': -1,\n",
       "       'n_samples': 37,\n",
       "       'gain': 0.05579166389977208}}}}}},\n",
       " 'sr': {'y_pred': 1,\n",
       "  'y_prob': 0.6204580152671756,\n",
       "  'level': 1,\n",
       "  'split': [26, 3987.117037401818],\n",
       "  'n_samples': 3273,\n",
       "  'gain': 0.009053109350339095,\n",
       "  'sl': {'y_pred': 1,\n",
       "   'y_prob': 0.5590374930050364,\n",
       "   'level': 2,\n",
       "   'split': [29, 5200.0],\n",
       "   'n_samples': 1785,\n",
       "   'gain': 0.011307127054115962,\n",
       "   'sl': {'y_pred': 1,\n",
       "    'y_prob': 0.5021987686895338,\n",
       "    'level': 3,\n",
       "    'split': [0, 256.3636363636364],\n",
       "    'n_samples': 1135,\n",
       "    'gain': 0.010952514052491591,\n",
       "    'sl': {'y_pred': 0,\n",
       "     'y_prob': 0.40481927710843374,\n",
       "     'level': 4,\n",
       "     'split': [38, 0.02500053529439091],\n",
       "     'n_samples': 413,\n",
       "     'gain': 0.014749846617915452,\n",
       "     'sl': {'y_pred': 1,\n",
       "      'y_prob': 0.5844155844155844,\n",
       "      'level': 5,\n",
       "      'split': [47, 0.5485383002345454],\n",
       "      'n_samples': 75,\n",
       "      'gain': 0.05365849596669259,\n",
       "      'sl': {'y_pred': 1,\n",
       "       'y_prob': 0.875,\n",
       "       'level': 6,\n",
       "       'split': -1,\n",
       "       'n_samples': 14,\n",
       "       'gain': 0.06122448979591841},\n",
       "      'sr': {'y_pred': 1,\n",
       "       'y_prob': 0.5079365079365079,\n",
       "       'level': 6,\n",
       "       'split': -1,\n",
       "       'n_samples': 61,\n",
       "       'gain': 0.054147411309464544}},\n",
       "     'sr': {'y_pred': 0,\n",
       "      'y_prob': 0.36470588235294116,\n",
       "      'level': 5,\n",
       "      'split': [40, 0.025855419517609092],\n",
       "      'n_samples': 338,\n",
       "      'gain': 0.010410634266733998,\n",
       "      'sl': {'y_pred': 1,\n",
       "       'y_prob': 0.515625,\n",
       "       'level': 6,\n",
       "       'split': -1,\n",
       "       'n_samples': 62,\n",
       "       'gain': 0.08744392658207933},\n",
       "      'sr': {'y_pred': 0,\n",
       "       'y_prob': 0.33093525179856115,\n",
       "       'level': 6,\n",
       "       'split': -1,\n",
       "       'n_samples': 276,\n",
       "       'gain': 0.015924751809038407}}},\n",
       "    'sr': {'y_pred': 1,\n",
       "     'y_prob': 0.5580110497237569,\n",
       "     'level': 4,\n",
       "     'split': [10, 4.9881025872454545],\n",
       "     'n_samples': 722,\n",
       "     'gain': 0.010172111446139609,\n",
       "     'sl': {'y_pred': 1,\n",
       "      'y_prob': 0.5805471124620061,\n",
       "      'level': 5,\n",
       "      'split': [43, 0.4367400284426364],\n",
       "      'n_samples': 656,\n",
       "      'gain': 0.012351802972283665,\n",
       "      'sl': {'y_pred': 0,\n",
       "       'y_prob': 0.47717842323651455,\n",
       "       'level': 6,\n",
       "       'split': -1,\n",
       "       'n_samples': 239,\n",
       "       'gain': 0.0167391058281523},\n",
       "      'sr': {'y_pred': 1,\n",
       "       'y_prob': 0.639618138424821,\n",
       "       'level': 6,\n",
       "       'split': -1,\n",
       "       'n_samples': 417,\n",
       "       'gain': 0.010601462909993975}},\n",
       "     'sr': {'y_pred': 0,\n",
       "      'y_prob': 0.3382352941176471,\n",
       "      'level': 5,\n",
       "      'split': [10, 5.191399796394545],\n",
       "      'n_samples': 66,\n",
       "      'gain': 0.05787037037037035,\n",
       "      'sl': {'y_pred': 0,\n",
       "       'y_prob': 0.44,\n",
       "       'level': 6,\n",
       "       'split': -1,\n",
       "       'n_samples': 48,\n",
       "       'gain': 0.07899964421252381},\n",
       "      'sr': {'y_pred': 0,\n",
       "       'y_prob': 0.1,\n",
       "       'level': 6,\n",
       "       'split': -1,\n",
       "       'n_samples': 18,\n",
       "       'gain': 0.1049382716049383}}}},\n",
       "   'sr': {'y_pred': 1,\n",
       "    'y_prob': 0.6579754601226994,\n",
       "    'level': 3,\n",
       "    'split': [6, 29.0],\n",
       "    'n_samples': 650,\n",
       "    'gain': 0.00467691148272209,\n",
       "    'sl': {'y_pred': 1,\n",
       "     'y_prob': 0.6734348561759729,\n",
       "     'level': 4,\n",
       "     'split': [57, 0.1],\n",
       "     'n_samples': 589,\n",
       "     'gain': 0.004714959412016717,\n",
       "     'sl': {'y_pred': 1,\n",
       "      'y_prob': 0.5591397849462365,\n",
       "      'level': 5,\n",
       "      'split': [26, 3340.5605503354545],\n",
       "      'n_samples': 91,\n",
       "      'gain': 0.03154607171280155,\n",
       "      'sl': {'y_pred': 0,\n",
       "       'y_prob': 0.4,\n",
       "       'level': 6,\n",
       "       'split': -1,\n",
       "       'n_samples': 33,\n",
       "       'gain': 0.08580757065605549},\n",
       "      'sr': {'y_pred': 1,\n",
       "       'y_prob': 0.65,\n",
       "       'level': 6,\n",
       "       'split': -1,\n",
       "       'n_samples': 58,\n",
       "       'gain': 0.07574845140631581}},\n",
       "     'sr': {'y_pred': 1,\n",
       "      'y_prob': 0.694,\n",
       "      'level': 5,\n",
       "      'split': [28, 17700.0],\n",
       "      'n_samples': 498,\n",
       "      'gain': 0.006916135383970068,\n",
       "      'sl': {'y_pred': 1,\n",
       "       'y_prob': 0.6397058823529411,\n",
       "       'level': 6,\n",
       "       'split': -1,\n",
       "       'n_samples': 270,\n",
       "       'gain': 0.020994820973657013},\n",
       "      'sr': {'y_pred': 1,\n",
       "       'y_prob': 0.7565217391304347,\n",
       "       'level': 6,\n",
       "       'split': -1,\n",
       "       'n_samples': 228,\n",
       "       'gain': 0.012077626153669141}}},\n",
       "    'sr': {'y_pred': 1,\n",
       "     'y_prob': 0.5079365079365079,\n",
       "     'level': 4,\n",
       "     'split': [54, -0.05],\n",
       "     'n_samples': 61,\n",
       "     'gain': 0.08484130757713138,\n",
       "     'sl': {'y_pred': 1,\n",
       "      'y_prob': 0.6756756756756757,\n",
       "      'level': 5,\n",
       "      'split': [39, 0.3515202723743637],\n",
       "      'n_samples': 35,\n",
       "      'gain': 0.07999999999999985,\n",
       "      'sl': {'y_pred': 1,\n",
       "       'y_prob': 0.7666666666666667,\n",
       "       'level': 6,\n",
       "       'split': -1,\n",
       "       'n_samples': 28,\n",
       "       'gain': 0.09566326530612249},\n",
       "      'sr': {'y_pred': 0,\n",
       "       'y_prob': 0.3333333333333333,\n",
       "       'level': 6,\n",
       "       'split': -1,\n",
       "       'n_samples': 7,\n",
       "       'gain': 0.40816326530612246}},\n",
       "     'sr': {'y_pred': 0,\n",
       "      'y_prob': 0.2857142857142857,\n",
       "      'level': 5,\n",
       "      'split': [2, 2892.636363636365],\n",
       "      'n_samples': 26,\n",
       "      'gain': 0.1393105222536659,\n",
       "      'sl': {'y_pred': 0,\n",
       "       'y_prob': 0.2,\n",
       "       'level': 6,\n",
       "       'split': -1,\n",
       "       'n_samples': 23,\n",
       "       'gain': 0.17139256458727167},\n",
       "      'sr': {'y_pred': 1,\n",
       "       'y_prob': 0.8,\n",
       "       'level': 6,\n",
       "       'split': -1,\n",
       "       'n_samples': 3,\n",
       "       'gain': 0}}}}},\n",
       "  'sr': {'y_pred': 1,\n",
       "   'y_prob': 0.6939597315436241,\n",
       "   'level': 2,\n",
       "   'split': [29, 3500.0],\n",
       "   'n_samples': 1488,\n",
       "   'gain': 0.007660052892224489,\n",
       "   'sl': {'y_pred': 1,\n",
       "    'y_prob': 0.62555720653789,\n",
       "    'level': 3,\n",
       "    'split': [5, 0.7335634798336365],\n",
       "    'n_samples': 671,\n",
       "    'gain': 0.014614580487635087,\n",
       "    'sl': {'y_pred': 1,\n",
       "     'y_prob': 0.6775510204081633,\n",
       "     'level': 4,\n",
       "     'split': [23, 249134.54545454544],\n",
       "     'n_samples': 488,\n",
       "     'gain': 0.008613546412873763,\n",
       "     'sl': {'y_pred': 1,\n",
       "      'y_prob': 0.5384615384615384,\n",
       "      'level': 5,\n",
       "      'split': [21, 17000.0],\n",
       "      'n_samples': 89,\n",
       "      'gain': 0.04774965282161342,\n",
       "      'sl': {'y_pred': 0,\n",
       "       'y_prob': 0.4878048780487805,\n",
       "       'level': 6,\n",
       "       'split': -1,\n",
       "       'n_samples': 80,\n",
       "       'gain': 0.04647587052062219},\n",
       "      'sr': {'y_pred': 1,\n",
       "       'y_prob': 0.9090909090909091,\n",
       "       'level': 6,\n",
       "       'split': -1,\n",
       "       'n_samples': 9,\n",
       "       'gain': 0}},\n",
       "     'sr': {'y_pred': 1,\n",
       "      'y_prob': 0.7082294264339152,\n",
       "      'level': 5,\n",
       "      'split': [56, 0.16761363636381815],\n",
       "      'n_samples': 399,\n",
       "      'gain': 0.010187686289569675,\n",
       "      'sl': {'y_pred': 1,\n",
       "       'y_prob': 0.6643835616438356,\n",
       "       'level': 6,\n",
       "       'split': -1,\n",
       "       'n_samples': 290,\n",
       "       'gain': 0.013221210197614575},\n",
       "      'sr': {'y_pred': 1,\n",
       "       'y_prob': 0.8198198198198198,\n",
       "       'level': 6,\n",
       "       'split': -1,\n",
       "       'n_samples': 109,\n",
       "       'gain': 0.0120691809943555}}},\n",
       "    'sr': {'y_pred': 0,\n",
       "     'y_prob': 0.4864864864864865,\n",
       "     'level': 4,\n",
       "     'split': [11, 10.0],\n",
       "     'n_samples': 183,\n",
       "     'gain': 0.02018024214017311,\n",
       "     'sl': {'y_pred': 1,\n",
       "      'y_prob': 0.5286624203821656,\n",
       "      'level': 5,\n",
       "      'split': [45, 0.06211180124220001],\n",
       "      'n_samples': 155,\n",
       "      'gain': 0.029051946030159315,\n",
       "      'sl': {'y_pred': 0,\n",
       "       'y_prob': 0.4728682170542636,\n",
       "       'level': 6,\n",
       "       'split': -1,\n",
       "       'n_samples': 127,\n",
       "       'gain': 0.02968072602811883},\n",
       "      'sr': {'y_pred': 1,\n",
       "       'y_prob': 0.7666666666666667,\n",
       "       'level': 6,\n",
       "       'split': -1,\n",
       "       'n_samples': 28,\n",
       "       'gain': 0.14816326530612242}},\n",
       "     'sr': {'y_pred': 0,\n",
       "      'y_prob': 0.26666666666666666,\n",
       "      'level': 5,\n",
       "      'split': [7, 3.0],\n",
       "      'n_samples': 28,\n",
       "      'gain': 0.09375,\n",
       "      'sl': {'y_pred': 0,\n",
       "       'y_prob': 0.4444444444444444,\n",
       "       'level': 6,\n",
       "       'split': -1,\n",
       "       'n_samples': 16,\n",
       "       'gain': 0.17400568181818182},\n",
       "      'sr': {'y_pred': 0,\n",
       "       'y_prob': 0.07142857142857142,\n",
       "       'level': 6,\n",
       "       'split': -1,\n",
       "       'n_samples': 12,\n",
       "       'gain': 0}}}},\n",
       "   'sr': {'y_pred': 1,\n",
       "    'y_prob': 0.7496947496947497,\n",
       "    'level': 3,\n",
       "    'split': [4, 0.999999989247],\n",
       "    'n_samples': 817,\n",
       "    'gain': 0.008764776513290384,\n",
       "    'sl': {'y_pred': 1,\n",
       "     'y_prob': 0.5394736842105263,\n",
       "     'level': 4,\n",
       "     'split': [21, 13245.454545454544],\n",
       "     'n_samples': 74,\n",
       "     'gain': 0.0646638587984189,\n",
       "     'sl': {'y_pred': 0,\n",
       "      'y_prob': 0.40816326530612246,\n",
       "      'level': 5,\n",
       "      'split': [6, 3.0],\n",
       "      'n_samples': 47,\n",
       "      'gain': 0.08196986354523705,\n",
       "      'sl': {'y_pred': 1,\n",
       "       'y_prob': 0.7142857142857143,\n",
       "       'level': 6,\n",
       "       'split': -1,\n",
       "       'n_samples': 12,\n",
       "       'gain': 0.22500000000000003},\n",
       "      'sr': {'y_pred': 0,\n",
       "       'y_prob': 0.2972972972972973,\n",
       "       'level': 6,\n",
       "       'split': -1,\n",
       "       'n_samples': 35,\n",
       "       'gain': 0.07549593263878979}},\n",
       "     'sr': {'y_pred': 1,\n",
       "      'y_prob': 0.7586206896551724,\n",
       "      'level': 5,\n",
       "      'split': [24, 3488.2820529109094],\n",
       "      'n_samples': 27,\n",
       "      'gain': 0.06487093153759821,\n",
       "      'sl': {'y_pred': 1,\n",
       "       'y_prob': 0.8333333333333334,\n",
       "       'level': 6,\n",
       "       'split': -1,\n",
       "       'n_samples': 22,\n",
       "       'gain': 0.06508264462809915},\n",
       "      'sr': {'y_pred': 0,\n",
       "       'y_prob': 0.42857142857142855,\n",
       "       'level': 6,\n",
       "       'split': -1,\n",
       "       'n_samples': 5,\n",
       "       'gain': 0.48}}},\n",
       "    'sr': {'y_pred': 1,\n",
       "     'y_prob': 0.7704697986577181,\n",
       "     'level': 4,\n",
       "     'split': [24, 2963.6872317963634],\n",
       "     'n_samples': 743,\n",
       "     'gain': 0.0044077000135459565,\n",
       "     'sl': {'y_pred': 1,\n",
       "      'y_prob': 0.7347368421052631,\n",
       "      'level': 5,\n",
       "      'split': [8, 2.0],\n",
       "      'n_samples': 473,\n",
       "      'gain': 0.0064582470959808624,\n",
       "      'sl': {'y_pred': 1,\n",
       "       'y_prob': 0.654320987654321,\n",
       "       'level': 6,\n",
       "       'split': -1,\n",
       "       'n_samples': 160,\n",
       "       'gain': 0.022373163497800164},\n",
       "      'sr': {'y_pred': 1,\n",
       "       'y_prob': 0.7746031746031746,\n",
       "       'level': 6,\n",
       "       'split': -1,\n",
       "       'n_samples': 313,\n",
       "       'gain': 0.007384252953592574}},\n",
       "     'sr': {'y_pred': 1,\n",
       "      'y_prob': 0.8308823529411765,\n",
       "      'level': 5,\n",
       "      'split': [20, 83.628],\n",
       "      'n_samples': 270,\n",
       "      'gain': 0.015247165532879636,\n",
       "      'sl': {'y_pred': 1,\n",
       "       'y_prob': 0.5555555555555556,\n",
       "       'level': 6,\n",
       "       'split': -1,\n",
       "       'n_samples': 25,\n",
       "       'gain': 0.13533968253968265},\n",
       "      'sr': {'y_pred': 1,\n",
       "       'y_prob': 0.8582995951417004,\n",
       "       'level': 6,\n",
       "       'split': -1,\n",
       "       'n_samples': 245,\n",
       "       'gain': 0.006484272682499875}}}}}}}"
      ]
     },
     "execution_count": 198,
     "metadata": {},
     "output_type": "execute_result"
    }
   ],
   "source": [
    "# Aplicación de la función tree_grow\n",
    "tree_grow(X, y, level=0, min_gain=0.001, max_depth=6, num_pct=10)"
   ]
  },
  {
   "cell_type": "code",
   "execution_count": null,
   "metadata": {},
   "outputs": [],
   "source": []
  },
  {
   "cell_type": "code",
   "execution_count": null,
   "metadata": {},
   "outputs": [],
   "source": []
  },
  {
   "cell_type": "code",
   "execution_count": null,
   "metadata": {},
   "outputs": [],
   "source": []
  },
  {
   "cell_type": "code",
   "execution_count": null,
   "metadata": {},
   "outputs": [],
   "source": []
  },
  {
   "cell_type": "code",
   "execution_count": null,
   "metadata": {},
   "outputs": [],
   "source": []
  },
  {
   "cell_type": "markdown",
   "metadata": {},
   "source": []
  },
  {
   "cell_type": "markdown",
   "metadata": {},
   "source": [
    "### Punto 5 - Árbol de decisión con librería\n",
    "En la celda 5 entrene un árbol de decisiones con la **librería sklearn**, usando las variables predictoras \"season\" y \"hour\" y calibre los parámetros que considere conveniente para obtener un mejor desempeño. Recuerde dividir los datos en conjuntos de entrenamiento y validación para esto. Comente el desempeño del modelo con alguna métrica de desempeño de modelos de regresión y compare desempeño con el modelo del punto 3."
   ]
  },
  {
   "cell_type": "code",
   "execution_count": 165,
   "metadata": {},
   "outputs": [
    {
     "data": {
      "text/html": [
       "<style>#sk-container-id-5 {color: black;background-color: white;}#sk-container-id-5 pre{padding: 0;}#sk-container-id-5 div.sk-toggleable {background-color: white;}#sk-container-id-5 label.sk-toggleable__label {cursor: pointer;display: block;width: 100%;margin-bottom: 0;padding: 0.3em;box-sizing: border-box;text-align: center;}#sk-container-id-5 label.sk-toggleable__label-arrow:before {content: \"▸\";float: left;margin-right: 0.25em;color: #696969;}#sk-container-id-5 label.sk-toggleable__label-arrow:hover:before {color: black;}#sk-container-id-5 div.sk-estimator:hover label.sk-toggleable__label-arrow:before {color: black;}#sk-container-id-5 div.sk-toggleable__content {max-height: 0;max-width: 0;overflow: hidden;text-align: left;background-color: #f0f8ff;}#sk-container-id-5 div.sk-toggleable__content pre {margin: 0.2em;color: black;border-radius: 0.25em;background-color: #f0f8ff;}#sk-container-id-5 input.sk-toggleable__control:checked~div.sk-toggleable__content {max-height: 200px;max-width: 100%;overflow: auto;}#sk-container-id-5 input.sk-toggleable__control:checked~label.sk-toggleable__label-arrow:before {content: \"▾\";}#sk-container-id-5 div.sk-estimator input.sk-toggleable__control:checked~label.sk-toggleable__label {background-color: #d4ebff;}#sk-container-id-5 div.sk-label input.sk-toggleable__control:checked~label.sk-toggleable__label {background-color: #d4ebff;}#sk-container-id-5 input.sk-hidden--visually {border: 0;clip: rect(1px 1px 1px 1px);clip: rect(1px, 1px, 1px, 1px);height: 1px;margin: -1px;overflow: hidden;padding: 0;position: absolute;width: 1px;}#sk-container-id-5 div.sk-estimator {font-family: monospace;background-color: #f0f8ff;border: 1px dotted black;border-radius: 0.25em;box-sizing: border-box;margin-bottom: 0.5em;}#sk-container-id-5 div.sk-estimator:hover {background-color: #d4ebff;}#sk-container-id-5 div.sk-parallel-item::after {content: \"\";width: 100%;border-bottom: 1px solid gray;flex-grow: 1;}#sk-container-id-5 div.sk-label:hover label.sk-toggleable__label {background-color: #d4ebff;}#sk-container-id-5 div.sk-serial::before {content: \"\";position: absolute;border-left: 1px solid gray;box-sizing: border-box;top: 0;bottom: 0;left: 50%;z-index: 0;}#sk-container-id-5 div.sk-serial {display: flex;flex-direction: column;align-items: center;background-color: white;padding-right: 0.2em;padding-left: 0.2em;position: relative;}#sk-container-id-5 div.sk-item {position: relative;z-index: 1;}#sk-container-id-5 div.sk-parallel {display: flex;align-items: stretch;justify-content: center;background-color: white;position: relative;}#sk-container-id-5 div.sk-item::before, #sk-container-id-5 div.sk-parallel-item::before {content: \"\";position: absolute;border-left: 1px solid gray;box-sizing: border-box;top: 0;bottom: 0;left: 50%;z-index: -1;}#sk-container-id-5 div.sk-parallel-item {display: flex;flex-direction: column;z-index: 1;position: relative;background-color: white;}#sk-container-id-5 div.sk-parallel-item:first-child::after {align-self: flex-end;width: 50%;}#sk-container-id-5 div.sk-parallel-item:last-child::after {align-self: flex-start;width: 50%;}#sk-container-id-5 div.sk-parallel-item:only-child::after {width: 0;}#sk-container-id-5 div.sk-dashed-wrapped {border: 1px dashed gray;margin: 0 0.4em 0.5em 0.4em;box-sizing: border-box;padding-bottom: 0.4em;background-color: white;}#sk-container-id-5 div.sk-label label {font-family: monospace;font-weight: bold;display: inline-block;line-height: 1.2em;}#sk-container-id-5 div.sk-label-container {text-align: center;}#sk-container-id-5 div.sk-container {/* jupyter's `normalize.less` sets `[hidden] { display: none; }` but bootstrap.min.css set `[hidden] { display: none !important; }` so we also need the `!important` here to be able to override the default hidden behavior on the sphinx rendered scikit-learn.org. See: https://github.com/scikit-learn/scikit-learn/issues/21755 */display: inline-block !important;position: relative;}#sk-container-id-5 div.sk-text-repr-fallback {display: none;}</style><div id=\"sk-container-id-5\" class=\"sk-top-container\"><div class=\"sk-text-repr-fallback\"><pre>DecisionTreeClassifier(max_depth=4, random_state=1)</pre><b>In a Jupyter environment, please rerun this cell to show the HTML representation or trust the notebook. <br />On GitHub, the HTML representation is unable to render, please try loading this page with nbviewer.org.</b></div><div class=\"sk-container\" hidden><div class=\"sk-item\"><div class=\"sk-estimator sk-toggleable\"><input class=\"sk-toggleable__control sk-hidden--visually\" id=\"sk-estimator-id-5\" type=\"checkbox\" checked><label for=\"sk-estimator-id-5\" class=\"sk-toggleable__label sk-toggleable__label-arrow\">DecisionTreeClassifier</label><div class=\"sk-toggleable__content\"><pre>DecisionTreeClassifier(max_depth=4, random_state=1)</pre></div></div></div></div></div>"
      ],
      "text/plain": [
       "DecisionTreeClassifier(max_depth=4, random_state=1)"
      ]
     },
     "execution_count": 165,
     "metadata": {},
     "output_type": "execute_result"
    },
    {
     "data": {
      "image/png": "[encoded data removed]",
      "text/plain": [
       "<Figure size 640x480 with 1 Axes>"
      ]
     },
     "metadata": {},
     "output_type": "display_data"
    }
   ],
   "source": [
    "# Celda 5\n",
    "# Lista de valores para calibrar el criterio de parada de máxima profundidad (max_depth)\n",
    "max_depth_range = range(1, 15)\n",
    "\n",
    "# Lista para guardar los valores del RMSE para cada valor de máxima profundidad (max_depth)\n",
    "accuracy_scores = []\n",
    "\n",
    "# Importación de modelos de sklearn \n",
    "from sklearn.model_selection import cross_val_score\n",
    "from sklearn.tree import DecisionTreeClassifier\n",
    "\n",
    "# Loop para obtener el desempeño del modelo de acuerdo con la máxima profundidad\n",
    "for depth in max_depth_range:\n",
    "    # Definición del árbol de decisión usando DecisionTreeClassifier de la libreria sklearn\n",
    "    clf = DecisionTreeClassifier(max_depth=depth, random_state=1)\n",
    "    accuracy_scores.append(cross_val_score(clf, X, y, cv=10, scoring='accuracy').mean())\n",
    "\n",
    "# Gráfica max_depth versus RMSE (error del modelo)\n",
    "plt.plot(max_depth_range, accuracy_scores)\n",
    "plt.xlabel('max_depth')\n",
    "plt.ylabel('Accuracy')\n",
    "\n",
    "# Mejor accuracy (desempeño del modelo) y su correspondiente max_depth\n",
    "sorted(zip(accuracy_scores, max_depth_range))[::-1][0]\n",
    "\n",
    "# max_depth=4 fue el mejor, se ajusta un árbol usando este valor \n",
    "clf = DecisionTreeClassifier(max_depth=4, random_state=1)\n",
    "clf.fit(X, y)"
   ]
  },
  {
   "cell_type": "code",
   "execution_count": null,
   "metadata": {},
   "outputs": [],
   "source": []
  },
  {
   "cell_type": "code",
   "execution_count": 166,
   "metadata": {},
   "outputs": [
    {
     "data": {
      "text/html": [
       "<div>\n",
       "<style scoped>\n",
       "    .dataframe tbody tr th:only-of-type {\n",
       "        vertical-align: middle;\n",
       "    }\n",
       "\n",
       "    .dataframe tbody tr th {\n",
       "        vertical-align: top;\n",
       "    }\n",
       "\n",
       "    .dataframe thead th {\n",
       "        text-align: right;\n",
       "    }\n",
       "</style>\n",
       "<table border=\"1\" class=\"dataframe\">\n",
       "  <thead>\n",
       "    <tr style=\"text-align: right;\">\n",
       "      <th></th>\n",
       "      <th>feature</th>\n",
       "      <th>importance</th>\n",
       "    </tr>\n",
       "  </thead>\n",
       "  <tbody>\n",
       "    <tr>\n",
       "      <th>0</th>\n",
       "      <td>season_factorize</td>\n",
       "      <td>0.206973</td>\n",
       "    </tr>\n",
       "    <tr>\n",
       "      <th>1</th>\n",
       "      <td>hour</td>\n",
       "      <td>0.793027</td>\n",
       "    </tr>\n",
       "  </tbody>\n",
       "</table>\n",
       "</div>"
      ],
      "text/plain": [
       "            feature  importance\n",
       "0  season_factorize    0.206973\n",
       "1              hour    0.793027"
      ]
     },
     "execution_count": 166,
     "metadata": {},
     "output_type": "execute_result"
    }
   ],
   "source": [
    "# Uso de la función .feature_importances_ para obtener la importancia de cada variable\n",
    "feature_cols = X.columns\n",
    "pd.DataFrame({'feature':feature_cols, 'importance':clf.feature_importances_}).sort_values('importance')"
   ]
  },
  {
   "cell_type": "markdown",
   "metadata": {},
   "source": [
    "Se observa claramente que la variable hora tiene mucho mayor impacto en la variable total, algo que se esperaba desde que hicimos las graficas. Tambien al graficar accuracy vs max-depth el valor optimo es 4 pues es el valor mas alto de accuracy."
   ]
  },
  {
   "cell_type": "code",
   "execution_count": null,
   "metadata": {},
   "outputs": [],
   "source": []
  },
  {
   "cell_type": "code",
   "execution_count": null,
   "metadata": {},
   "outputs": [],
   "source": []
  },
  {
   "cell_type": "code",
   "execution_count": null,
   "metadata": {},
   "outputs": [],
   "source": []
  },
  {
   "cell_type": "markdown",
   "metadata": {},
   "source": [
    "## Parte B - Métodos de ensamblajes\n",
    "En esta parte del taller se usará el conjunto de datos de Popularidad de Noticias Online. El objetivo es predecir si la notica es popular o no, la popularidad está dada por la cantidad de reacciones en redes sociales. Para más detalles puede visitar el siguiente enlace: [datos](https://archive.ics.uci.edu/ml/datasets/online+news+popularity)."
   ]
  },
  {
   "cell_type": "markdown",
   "metadata": {},
   "source": [
    "### Datos popularidad de noticias"
   ]
  },
  {
   "cell_type": "code",
   "execution_count": 200,
   "metadata": {},
   "outputs": [
    {
     "data": {
      "text/html": [
       "<div>\n",
       "<style scoped>\n",
       "    .dataframe tbody tr th:only-of-type {\n",
       "        vertical-align: middle;\n",
       "    }\n",
       "\n",
       "    .dataframe tbody tr th {\n",
       "        vertical-align: top;\n",
       "    }\n",
       "\n",
       "    .dataframe thead th {\n",
       "        text-align: right;\n",
       "    }\n",
       "</style>\n",
       "<table border=\"1\" class=\"dataframe\">\n",
       "  <thead>\n",
       "    <tr style=\"text-align: right;\">\n",
       "      <th></th>\n",
       "      <th>url</th>\n",
       "      <th>timedelta</th>\n",
       "      <th>n_tokens_title</th>\n",
       "      <th>n_tokens_content</th>\n",
       "      <th>n_unique_tokens</th>\n",
       "      <th>n_non_stop_words</th>\n",
       "      <th>n_non_stop_unique_tokens</th>\n",
       "      <th>num_hrefs</th>\n",
       "      <th>num_self_hrefs</th>\n",
       "      <th>num_imgs</th>\n",
       "      <th>...</th>\n",
       "      <th>min_positive_polarity</th>\n",
       "      <th>max_positive_polarity</th>\n",
       "      <th>avg_negative_polarity</th>\n",
       "      <th>min_negative_polarity</th>\n",
       "      <th>max_negative_polarity</th>\n",
       "      <th>title_subjectivity</th>\n",
       "      <th>title_sentiment_polarity</th>\n",
       "      <th>abs_title_subjectivity</th>\n",
       "      <th>abs_title_sentiment_polarity</th>\n",
       "      <th>Popular</th>\n",
       "    </tr>\n",
       "  </thead>\n",
       "  <tbody>\n",
       "    <tr>\n",
       "      <th>0</th>\n",
       "      <td>http://mashable.com/2014/12/10/cia-torture-rep...</td>\n",
       "      <td>28.0</td>\n",
       "      <td>9.0</td>\n",
       "      <td>188.0</td>\n",
       "      <td>0.732620</td>\n",
       "      <td>1.0</td>\n",
       "      <td>0.844262</td>\n",
       "      <td>5.0</td>\n",
       "      <td>1.0</td>\n",
       "      <td>1.0</td>\n",
       "      <td>...</td>\n",
       "      <td>0.200000</td>\n",
       "      <td>0.80</td>\n",
       "      <td>-0.487500</td>\n",
       "      <td>-0.60</td>\n",
       "      <td>-0.250000</td>\n",
       "      <td>0.9</td>\n",
       "      <td>0.8</td>\n",
       "      <td>0.4</td>\n",
       "      <td>0.8</td>\n",
       "      <td>1</td>\n",
       "    </tr>\n",
       "    <tr>\n",
       "      <th>1</th>\n",
       "      <td>http://mashable.com/2013/10/18/bitlock-kicksta...</td>\n",
       "      <td>447.0</td>\n",
       "      <td>7.0</td>\n",
       "      <td>297.0</td>\n",
       "      <td>0.653199</td>\n",
       "      <td>1.0</td>\n",
       "      <td>0.815789</td>\n",
       "      <td>9.0</td>\n",
       "      <td>4.0</td>\n",
       "      <td>1.0</td>\n",
       "      <td>...</td>\n",
       "      <td>0.160000</td>\n",
       "      <td>0.50</td>\n",
       "      <td>-0.135340</td>\n",
       "      <td>-0.40</td>\n",
       "      <td>-0.050000</td>\n",
       "      <td>0.1</td>\n",
       "      <td>-0.1</td>\n",
       "      <td>0.4</td>\n",
       "      <td>0.1</td>\n",
       "      <td>0</td>\n",
       "    </tr>\n",
       "    <tr>\n",
       "      <th>2</th>\n",
       "      <td>http://mashable.com/2013/07/24/google-glass-po...</td>\n",
       "      <td>533.0</td>\n",
       "      <td>11.0</td>\n",
       "      <td>181.0</td>\n",
       "      <td>0.660377</td>\n",
       "      <td>1.0</td>\n",
       "      <td>0.775701</td>\n",
       "      <td>4.0</td>\n",
       "      <td>3.0</td>\n",
       "      <td>1.0</td>\n",
       "      <td>...</td>\n",
       "      <td>0.136364</td>\n",
       "      <td>1.00</td>\n",
       "      <td>0.000000</td>\n",
       "      <td>0.00</td>\n",
       "      <td>0.000000</td>\n",
       "      <td>0.3</td>\n",
       "      <td>1.0</td>\n",
       "      <td>0.2</td>\n",
       "      <td>1.0</td>\n",
       "      <td>0</td>\n",
       "    </tr>\n",
       "    <tr>\n",
       "      <th>3</th>\n",
       "      <td>http://mashable.com/2013/11/21/these-are-the-m...</td>\n",
       "      <td>413.0</td>\n",
       "      <td>12.0</td>\n",
       "      <td>781.0</td>\n",
       "      <td>0.497409</td>\n",
       "      <td>1.0</td>\n",
       "      <td>0.677350</td>\n",
       "      <td>10.0</td>\n",
       "      <td>3.0</td>\n",
       "      <td>1.0</td>\n",
       "      <td>...</td>\n",
       "      <td>0.100000</td>\n",
       "      <td>1.00</td>\n",
       "      <td>-0.195701</td>\n",
       "      <td>-0.40</td>\n",
       "      <td>-0.071429</td>\n",
       "      <td>0.0</td>\n",
       "      <td>0.0</td>\n",
       "      <td>0.5</td>\n",
       "      <td>0.0</td>\n",
       "      <td>0</td>\n",
       "    </tr>\n",
       "    <tr>\n",
       "      <th>4</th>\n",
       "      <td>http://mashable.com/2014/02/11/parking-ticket-...</td>\n",
       "      <td>331.0</td>\n",
       "      <td>8.0</td>\n",
       "      <td>177.0</td>\n",
       "      <td>0.685714</td>\n",
       "      <td>1.0</td>\n",
       "      <td>0.830357</td>\n",
       "      <td>3.0</td>\n",
       "      <td>2.0</td>\n",
       "      <td>1.0</td>\n",
       "      <td>...</td>\n",
       "      <td>0.100000</td>\n",
       "      <td>0.55</td>\n",
       "      <td>-0.175000</td>\n",
       "      <td>-0.25</td>\n",
       "      <td>-0.100000</td>\n",
       "      <td>0.0</td>\n",
       "      <td>0.0</td>\n",
       "      <td>0.5</td>\n",
       "      <td>0.0</td>\n",
       "      <td>0</td>\n",
       "    </tr>\n",
       "  </tbody>\n",
       "</table>\n",
       "<p>5 rows × 61 columns</p>\n",
       "</div>"
      ],
      "text/plain": [
       "                                                 url  timedelta  \\\n",
       "0  http://mashable.com/2014/12/10/cia-torture-rep...       28.0   \n",
       "1  http://mashable.com/2013/10/18/bitlock-kicksta...      447.0   \n",
       "2  http://mashable.com/2013/07/24/google-glass-po...      533.0   \n",
       "3  http://mashable.com/2013/11/21/these-are-the-m...      413.0   \n",
       "4  http://mashable.com/2014/02/11/parking-ticket-...      331.0   \n",
       "\n",
       "   n_tokens_title  n_tokens_content  n_unique_tokens  n_non_stop_words  \\\n",
       "0             9.0             188.0         0.732620               1.0   \n",
       "1             7.0             297.0         0.653199               1.0   \n",
       "2            11.0             181.0         0.660377               1.0   \n",
       "3            12.0             781.0         0.497409               1.0   \n",
       "4             8.0             177.0         0.685714               1.0   \n",
       "\n",
       "   n_non_stop_unique_tokens  num_hrefs  num_self_hrefs  num_imgs  ...  \\\n",
       "0                  0.844262        5.0             1.0       1.0  ...   \n",
       "1                  0.815789        9.0             4.0       1.0  ...   \n",
       "2                  0.775701        4.0             3.0       1.0  ...   \n",
       "3                  0.677350       10.0             3.0       1.0  ...   \n",
       "4                  0.830357        3.0             2.0       1.0  ...   \n",
       "\n",
       "   min_positive_polarity  max_positive_polarity  avg_negative_polarity  \\\n",
       "0               0.200000                   0.80              -0.487500   \n",
       "1               0.160000                   0.50              -0.135340   \n",
       "2               0.136364                   1.00               0.000000   \n",
       "3               0.100000                   1.00              -0.195701   \n",
       "4               0.100000                   0.55              -0.175000   \n",
       "\n",
       "   min_negative_polarity  max_negative_polarity  title_subjectivity  \\\n",
       "0                  -0.60              -0.250000                 0.9   \n",
       "1                  -0.40              -0.050000                 0.1   \n",
       "2                   0.00               0.000000                 0.3   \n",
       "3                  -0.40              -0.071429                 0.0   \n",
       "4                  -0.25              -0.100000                 0.0   \n",
       "\n",
       "   title_sentiment_polarity  abs_title_subjectivity  \\\n",
       "0                       0.8                     0.4   \n",
       "1                      -0.1                     0.4   \n",
       "2                       1.0                     0.2   \n",
       "3                       0.0                     0.5   \n",
       "4                       0.0                     0.5   \n",
       "\n",
       "   abs_title_sentiment_polarity  Popular  \n",
       "0                           0.8        1  \n",
       "1                           0.1        0  \n",
       "2                           1.0        0  \n",
       "3                           0.0        0  \n",
       "4                           0.0        0  \n",
       "\n",
       "[5 rows x 61 columns]"
      ]
     },
     "execution_count": 200,
     "metadata": {},
     "output_type": "execute_result"
    }
   ],
   "source": [
    "# Lectura de la información de archivo .csv\n",
    "df = pd.read_csv('https://raw.githubusercontent.com/davidzarruk/MIAD_ML_NLP_2023/main/datasets/mashable.csv', index_col=0)\n",
    "df.head()"
   ]
  },
  {
   "cell_type": "code",
   "execution_count": null,
   "metadata": {},
   "outputs": [],
   "source": []
  },
  {
   "cell_type": "code",
   "execution_count": null,
   "metadata": {},
   "outputs": [],
   "source": []
  },
  {
   "cell_type": "code",
   "execution_count": null,
   "metadata": {},
   "outputs": [],
   "source": []
  },
  {
   "cell_type": "code",
   "execution_count": 201,
   "metadata": {},
   "outputs": [
    {
     "data": {
      "text/plain": [
       "0.5"
      ]
     },
     "execution_count": 201,
     "metadata": {},
     "output_type": "execute_result"
    }
   ],
   "source": [
    "# Definición variable de interes y variables predictoras\n",
    "X = df.drop(['url', 'Popular'], axis=1)\n",
    "y = df['Popular']\n",
    "y.mean()"
   ]
  },
  {
   "cell_type": "code",
   "execution_count": null,
   "metadata": {},
   "outputs": [],
   "source": []
  },
  {
   "cell_type": "code",
   "execution_count": null,
   "metadata": {},
   "outputs": [],
   "source": []
  },
  {
   "cell_type": "code",
   "execution_count": null,
   "metadata": {},
   "outputs": [],
   "source": []
  },
  {
   "cell_type": "code",
   "execution_count": 202,
   "metadata": {},
   "outputs": [],
   "source": [
    "# División de la muestra en set de entrenamiento y prueba\n",
    "from sklearn.model_selection import train_test_split\n",
    "X_train, X_test, y_train, y_test = train_test_split(X, y, random_state=1)"
   ]
  },
  {
   "cell_type": "code",
   "execution_count": null,
   "metadata": {},
   "outputs": [],
   "source": []
  },
  {
   "cell_type": "code",
   "execution_count": null,
   "metadata": {},
   "outputs": [],
   "source": []
  },
  {
   "cell_type": "code",
   "execution_count": null,
   "metadata": {},
   "outputs": [],
   "source": []
  },
  {
   "cell_type": "markdown",
   "metadata": {},
   "source": [
    "### Punto 6 - Árbol de decisión y regresión logística\n",
    "En la celda 6 construya un árbol de decisión y una regresión logística. Para el árbol calibre al menos un parámetro y evalúe el desempeño de cada modelo usando las métricas de Accuracy y F1-Score."
   ]
  },
  {
   "cell_type": "code",
   "execution_count": 105,
   "metadata": {},
   "outputs": [],
   "source": [
    "# Celda 6\n"
   ]
  },
  {
   "cell_type": "code",
   "execution_count": 253,
   "metadata": {},
   "outputs": [
    {
     "data": {
      "text/plain": [
       "<bound method NDFrame.describe of                                                     url  timedelta  \\\n",
       "0     http://mashable.com/2014/12/10/cia-torture-rep...       28.0   \n",
       "1     http://mashable.com/2013/10/18/bitlock-kicksta...      447.0   \n",
       "2     http://mashable.com/2013/07/24/google-glass-po...      533.0   \n",
       "3     http://mashable.com/2013/11/21/these-are-the-m...      413.0   \n",
       "4     http://mashable.com/2014/02/11/parking-ticket-...      331.0   \n",
       "...                                                 ...        ...   \n",
       "5995  http://mashable.com/2013/08/03/twerking-addict...      523.0   \n",
       "5996  http://mashable.com/2014/08/21/study-programs-...      139.0   \n",
       "5997  http://mashable.com/2013/04/25/email-warrant-m...      623.0   \n",
       "5998  http://mashable.com/2013/06/03/smartphone-sale...      584.0   \n",
       "5999         http://mashable.com/2013/09/06/twerk-fire/      489.0   \n",
       "\n",
       "      n_tokens_title  n_tokens_content  n_unique_tokens  n_non_stop_words  \\\n",
       "0                9.0             188.0         0.732620               1.0   \n",
       "1                7.0             297.0         0.653199               1.0   \n",
       "2               11.0             181.0         0.660377               1.0   \n",
       "3               12.0             781.0         0.497409               1.0   \n",
       "4                8.0             177.0         0.685714               1.0   \n",
       "...              ...               ...              ...               ...   \n",
       "5995            10.0             660.0         0.493884               1.0   \n",
       "5996             9.0             144.0         0.647887               1.0   \n",
       "5997             8.0             536.0         0.512287               1.0   \n",
       "5998            10.0             266.0         0.534413               1.0   \n",
       "5999             7.0             447.0         0.605568               1.0   \n",
       "\n",
       "      n_non_stop_unique_tokens  num_hrefs  num_self_hrefs  num_imgs  ...  \\\n",
       "0                     0.844262        5.0             1.0       1.0  ...   \n",
       "1                     0.815789        9.0             4.0       1.0  ...   \n",
       "2                     0.775701        4.0             3.0       1.0  ...   \n",
       "3                     0.677350       10.0             3.0       1.0  ...   \n",
       "4                     0.830357        3.0             2.0       1.0  ...   \n",
       "...                        ...        ...             ...       ...  ...   \n",
       "5995                  0.633971       20.0             4.0       1.0  ...   \n",
       "5996                  0.739583       15.0             4.0      10.0  ...   \n",
       "5997                  0.647929        6.0             2.0       1.0  ...   \n",
       "5998                  0.605882        9.0             6.0       1.0  ...   \n",
       "5999                  0.717172       19.0             3.0       0.0  ...   \n",
       "\n",
       "      min_positive_polarity  max_positive_polarity  avg_negative_polarity  \\\n",
       "0                  0.200000                   0.80              -0.487500   \n",
       "1                  0.160000                   0.50              -0.135340   \n",
       "2                  0.136364                   1.00               0.000000   \n",
       "3                  0.100000                   1.00              -0.195701   \n",
       "4                  0.100000                   0.55              -0.175000   \n",
       "...                     ...                    ...                    ...   \n",
       "5995               0.050000                   0.50              -0.258730   \n",
       "5996               0.100000                   0.60              -0.250000   \n",
       "5997               0.100000                   0.40              -0.156250   \n",
       "5998               0.100000                   0.60              -0.250000   \n",
       "5999               0.050000                   1.00              -0.400000   \n",
       "\n",
       "      min_negative_polarity  max_negative_polarity  title_subjectivity  \\\n",
       "0                     -0.60              -0.250000                 0.9   \n",
       "1                     -0.40              -0.050000                 0.1   \n",
       "2                      0.00               0.000000                 0.3   \n",
       "3                     -0.40              -0.071429                 0.0   \n",
       "4                     -0.25              -0.100000                 0.0   \n",
       "...                     ...                    ...                 ...   \n",
       "5995                  -0.80              -0.100000                 0.1   \n",
       "5996                  -0.30              -0.200000                 0.0   \n",
       "5997                  -0.30              -0.100000                 0.0   \n",
       "5998                  -0.40              -0.100000                 0.0   \n",
       "5999                  -0.40              -0.400000                 0.0   \n",
       "\n",
       "      title_sentiment_polarity  abs_title_subjectivity  \\\n",
       "0                          0.8                     0.4   \n",
       "1                         -0.1                     0.4   \n",
       "2                          1.0                     0.2   \n",
       "3                          0.0                     0.5   \n",
       "4                          0.0                     0.5   \n",
       "...                        ...                     ...   \n",
       "5995                       0.0                     0.4   \n",
       "5996                       0.0                     0.5   \n",
       "5997                       0.0                     0.5   \n",
       "5998                       0.0                     0.5   \n",
       "5999                       0.0                     0.5   \n",
       "\n",
       "      abs_title_sentiment_polarity  Popular  \n",
       "0                              0.8        1  \n",
       "1                              0.1        0  \n",
       "2                              1.0        0  \n",
       "3                              0.0        0  \n",
       "4                              0.0        0  \n",
       "...                            ...      ...  \n",
       "5995                           0.0        0  \n",
       "5996                           0.0        1  \n",
       "5997                           0.0        0  \n",
       "5998                           0.0        0  \n",
       "5999                           0.0        1  \n",
       "\n",
       "[6000 rows x 61 columns]>"
      ]
     },
     "execution_count": 253,
     "metadata": {},
     "output_type": "execute_result"
    }
   ],
   "source": [
    "df.describe"
   ]
  },
  {
   "cell_type": "code",
   "execution_count": null,
   "metadata": {},
   "outputs": [],
   "source": []
  },
  {
   "cell_type": "code",
   "execution_count": 254,
   "metadata": {},
   "outputs": [],
   "source": [
    "# Lista de valores para calibrar el criterio de parada de máxima profundidad (max_depth)\n",
    "max_depth_range = range(1, 21)\n",
    "\n",
    "# Lista para guardar los valores del RMSE para cada valor de máxima profundidad (max_depth)\n",
    "accuracy_scores = []\n",
    "\n",
    "# Importación de modelos de sklearn \n",
    "from sklearn.model_selection import cross_val_score\n",
    "from sklearn.tree import DecisionTreeClassifier\n",
    "\n",
    "# Loop para obtener el desempeño del modelo de acuerdo con la máxima profundidad\n",
    "for depth in max_depth_range:\n",
    "    # Definición del árbol de decisión usando DecisionTreeClassifier de la libreria sklearn\n",
    "    clf = DecisionTreeClassifier(max_depth=depth, random_state=1)\n",
    "    accuracy_scores.append(cross_val_score(clf, X, y, cv=10, scoring='accuracy').mean())"
   ]
  },
  {
   "cell_type": "code",
   "execution_count": null,
   "metadata": {},
   "outputs": [],
   "source": []
  },
  {
   "cell_type": "code",
   "execution_count": 255,
   "metadata": {},
   "outputs": [
    {
     "data": {
      "text/plain": [
       "Text(0, 0.5, 'Accuracy')"
      ]
     },
     "execution_count": 255,
     "metadata": {},
     "output_type": "execute_result"
    },
    {
     "data": {
      "image/png": "[encoded data removed]",
      "text/plain": [
       "<Figure size 640x480 with 1 Axes>"
      ]
     },
     "metadata": {},
     "output_type": "display_data"
    }
   ],
   "source": [
    "# Gráfica max_depth versus RMSE (error del modelo)\n",
    "plt.plot(max_depth_range, accuracy_scores)\n",
    "plt.xlabel('max_depth')\n",
    "plt.ylabel('Accuracy')"
   ]
  },
  {
   "cell_type": "code",
   "execution_count": null,
   "metadata": {},
   "outputs": [],
   "source": []
  },
  {
   "cell_type": "code",
   "execution_count": 256,
   "metadata": {},
   "outputs": [
    {
     "data": {
      "text/plain": [
       "(0.6353333333333333, 2)"
      ]
     },
     "execution_count": 256,
     "metadata": {},
     "output_type": "execute_result"
    }
   ],
   "source": [
    "# Mejor accuracy (desempeño del modelo) y su correspondiente max_depth\n",
    "sorted(zip(accuracy_scores, max_depth_range))[::-1][0]"
   ]
  },
  {
   "cell_type": "code",
   "execution_count": null,
   "metadata": {},
   "outputs": [],
   "source": []
  },
  {
   "cell_type": "code",
   "execution_count": 257,
   "metadata": {},
   "outputs": [
    {
     "data": {
      "text/html": [
       "<style>#sk-container-id-8 {color: black;background-color: white;}#sk-container-id-8 pre{padding: 0;}#sk-container-id-8 div.sk-toggleable {background-color: white;}#sk-container-id-8 label.sk-toggleable__label {cursor: pointer;display: block;width: 100%;margin-bottom: 0;padding: 0.3em;box-sizing: border-box;text-align: center;}#sk-container-id-8 label.sk-toggleable__label-arrow:before {content: \"▸\";float: left;margin-right: 0.25em;color: #696969;}#sk-container-id-8 label.sk-toggleable__label-arrow:hover:before {color: black;}#sk-container-id-8 div.sk-estimator:hover label.sk-toggleable__label-arrow:before {color: black;}#sk-container-id-8 div.sk-toggleable__content {max-height: 0;max-width: 0;overflow: hidden;text-align: left;background-color: #f0f8ff;}#sk-container-id-8 div.sk-toggleable__content pre {margin: 0.2em;color: black;border-radius: 0.25em;background-color: #f0f8ff;}#sk-container-id-8 input.sk-toggleable__control:checked~div.sk-toggleable__content {max-height: 200px;max-width: 100%;overflow: auto;}#sk-container-id-8 input.sk-toggleable__control:checked~label.sk-toggleable__label-arrow:before {content: \"▾\";}#sk-container-id-8 div.sk-estimator input.sk-toggleable__control:checked~label.sk-toggleable__label {background-color: #d4ebff;}#sk-container-id-8 div.sk-label input.sk-toggleable__control:checked~label.sk-toggleable__label {background-color: #d4ebff;}#sk-container-id-8 input.sk-hidden--visually {border: 0;clip: rect(1px 1px 1px 1px);clip: rect(1px, 1px, 1px, 1px);height: 1px;margin: -1px;overflow: hidden;padding: 0;position: absolute;width: 1px;}#sk-container-id-8 div.sk-estimator {font-family: monospace;background-color: #f0f8ff;border: 1px dotted black;border-radius: 0.25em;box-sizing: border-box;margin-bottom: 0.5em;}#sk-container-id-8 div.sk-estimator:hover {background-color: #d4ebff;}#sk-container-id-8 div.sk-parallel-item::after {content: \"\";width: 100%;border-bottom: 1px solid gray;flex-grow: 1;}#sk-container-id-8 div.sk-label:hover label.sk-toggleable__label {background-color: #d4ebff;}#sk-container-id-8 div.sk-serial::before {content: \"\";position: absolute;border-left: 1px solid gray;box-sizing: border-box;top: 0;bottom: 0;left: 50%;z-index: 0;}#sk-container-id-8 div.sk-serial {display: flex;flex-direction: column;align-items: center;background-color: white;padding-right: 0.2em;padding-left: 0.2em;position: relative;}#sk-container-id-8 div.sk-item {position: relative;z-index: 1;}#sk-container-id-8 div.sk-parallel {display: flex;align-items: stretch;justify-content: center;background-color: white;position: relative;}#sk-container-id-8 div.sk-item::before, #sk-container-id-8 div.sk-parallel-item::before {content: \"\";position: absolute;border-left: 1px solid gray;box-sizing: border-box;top: 0;bottom: 0;left: 50%;z-index: -1;}#sk-container-id-8 div.sk-parallel-item {display: flex;flex-direction: column;z-index: 1;position: relative;background-color: white;}#sk-container-id-8 div.sk-parallel-item:first-child::after {align-self: flex-end;width: 50%;}#sk-container-id-8 div.sk-parallel-item:last-child::after {align-self: flex-start;width: 50%;}#sk-container-id-8 div.sk-parallel-item:only-child::after {width: 0;}#sk-container-id-8 div.sk-dashed-wrapped {border: 1px dashed gray;margin: 0 0.4em 0.5em 0.4em;box-sizing: border-box;padding-bottom: 0.4em;background-color: white;}#sk-container-id-8 div.sk-label label {font-family: monospace;font-weight: bold;display: inline-block;line-height: 1.2em;}#sk-container-id-8 div.sk-label-container {text-align: center;}#sk-container-id-8 div.sk-container {/* jupyter's `normalize.less` sets `[hidden] { display: none; }` but bootstrap.min.css set `[hidden] { display: none !important; }` so we also need the `!important` here to be able to override the default hidden behavior on the sphinx rendered scikit-learn.org. See: https://github.com/scikit-learn/scikit-learn/issues/21755 */display: inline-block !important;position: relative;}#sk-container-id-8 div.sk-text-repr-fallback {display: none;}</style><div id=\"sk-container-id-8\" class=\"sk-top-container\"><div class=\"sk-text-repr-fallback\"><pre>DecisionTreeClassifier(max_depth=2, random_state=1)</pre><b>In a Jupyter environment, please rerun this cell to show the HTML representation or trust the notebook. <br />On GitHub, the HTML representation is unable to render, please try loading this page with nbviewer.org.</b></div><div class=\"sk-container\" hidden><div class=\"sk-item\"><div class=\"sk-estimator sk-toggleable\"><input class=\"sk-toggleable__control sk-hidden--visually\" id=\"sk-estimator-id-10\" type=\"checkbox\" checked><label for=\"sk-estimator-id-10\" class=\"sk-toggleable__label sk-toggleable__label-arrow\">DecisionTreeClassifier</label><div class=\"sk-toggleable__content\"><pre>DecisionTreeClassifier(max_depth=2, random_state=1)</pre></div></div></div></div></div>"
      ],
      "text/plain": [
       "DecisionTreeClassifier(max_depth=2, random_state=1)"
      ]
     },
     "execution_count": 257,
     "metadata": {},
     "output_type": "execute_result"
    }
   ],
   "source": [
    "# max_depth=2 fue el mejor, se ajusta un árbol usando este valor \n",
    "clf = DecisionTreeClassifier(max_depth=2, random_state=1)\n",
    "clf.fit(X, y)"
   ]
  },
  {
   "cell_type": "code",
   "execution_count": null,
   "metadata": {},
   "outputs": [],
   "source": []
  },
  {
   "cell_type": "code",
   "execution_count": 258,
   "metadata": {},
   "outputs": [
    {
     "name": "stdout",
     "output_type": "stream",
     "text": [
      "Index(['timedelta', 'n_tokens_title', 'n_tokens_content', 'n_unique_tokens',\n",
      "       'n_non_stop_words', 'n_non_stop_unique_tokens', 'num_hrefs',\n",
      "       'num_self_hrefs', 'num_imgs', 'num_videos', 'average_token_length',\n",
      "       'num_keywords', 'data_channel_is_lifestyle',\n",
      "       'data_channel_is_entertainment', 'data_channel_is_bus',\n",
      "       'data_channel_is_socmed', 'data_channel_is_tech',\n",
      "       'data_channel_is_world', 'kw_min_min', 'kw_max_min', 'kw_avg_min',\n",
      "       'kw_min_max', 'kw_max_max', 'kw_avg_max', 'kw_min_avg', 'kw_max_avg',\n",
      "       'kw_avg_avg', 'self_reference_min_shares', 'self_reference_max_shares',\n",
      "       'self_reference_avg_sharess', 'weekday_is_monday', 'weekday_is_tuesday',\n",
      "       'weekday_is_wednesday', 'weekday_is_thursday', 'weekday_is_friday',\n",
      "       'weekday_is_saturday', 'weekday_is_sunday', 'is_weekend', 'LDA_00',\n",
      "       'LDA_01', 'LDA_02', 'LDA_03', 'LDA_04', 'global_subjectivity',\n",
      "       'global_sentiment_polarity', 'global_rate_positive_words',\n",
      "       'global_rate_negative_words', 'rate_positive_words',\n",
      "       'rate_negative_words', 'avg_positive_polarity', 'min_positive_polarity',\n",
      "       'max_positive_polarity', 'avg_negative_polarity',\n",
      "       'min_negative_polarity', 'max_negative_polarity', 'title_subjectivity',\n",
      "       'title_sentiment_polarity', 'abs_title_subjectivity',\n",
      "       'abs_title_sentiment_polarity'],\n",
      "      dtype='object')\n"
     ]
    },
    {
     "data": {
      "text/html": [
       "<div>\n",
       "<style scoped>\n",
       "    .dataframe tbody tr th:only-of-type {\n",
       "        vertical-align: middle;\n",
       "    }\n",
       "\n",
       "    .dataframe tbody tr th {\n",
       "        vertical-align: top;\n",
       "    }\n",
       "\n",
       "    .dataframe thead th {\n",
       "        text-align: right;\n",
       "    }\n",
       "</style>\n",
       "<table border=\"1\" class=\"dataframe\">\n",
       "  <thead>\n",
       "    <tr style=\"text-align: right;\">\n",
       "      <th></th>\n",
       "      <th>feature</th>\n",
       "      <th>importance</th>\n",
       "    </tr>\n",
       "  </thead>\n",
       "  <tbody>\n",
       "    <tr>\n",
       "      <th>0</th>\n",
       "      <td>timedelta</td>\n",
       "      <td>0.000000</td>\n",
       "    </tr>\n",
       "    <tr>\n",
       "      <th>31</th>\n",
       "      <td>weekday_is_tuesday</td>\n",
       "      <td>0.000000</td>\n",
       "    </tr>\n",
       "    <tr>\n",
       "      <th>32</th>\n",
       "      <td>weekday_is_wednesday</td>\n",
       "      <td>0.000000</td>\n",
       "    </tr>\n",
       "    <tr>\n",
       "      <th>33</th>\n",
       "      <td>weekday_is_thursday</td>\n",
       "      <td>0.000000</td>\n",
       "    </tr>\n",
       "    <tr>\n",
       "      <th>34</th>\n",
       "      <td>weekday_is_friday</td>\n",
       "      <td>0.000000</td>\n",
       "    </tr>\n",
       "    <tr>\n",
       "      <th>35</th>\n",
       "      <td>weekday_is_saturday</td>\n",
       "      <td>0.000000</td>\n",
       "    </tr>\n",
       "    <tr>\n",
       "      <th>36</th>\n",
       "      <td>weekday_is_sunday</td>\n",
       "      <td>0.000000</td>\n",
       "    </tr>\n",
       "    <tr>\n",
       "      <th>37</th>\n",
       "      <td>is_weekend</td>\n",
       "      <td>0.000000</td>\n",
       "    </tr>\n",
       "    <tr>\n",
       "      <th>38</th>\n",
       "      <td>LDA_00</td>\n",
       "      <td>0.000000</td>\n",
       "    </tr>\n",
       "    <tr>\n",
       "      <th>39</th>\n",
       "      <td>LDA_01</td>\n",
       "      <td>0.000000</td>\n",
       "    </tr>\n",
       "    <tr>\n",
       "      <th>41</th>\n",
       "      <td>LDA_03</td>\n",
       "      <td>0.000000</td>\n",
       "    </tr>\n",
       "    <tr>\n",
       "      <th>42</th>\n",
       "      <td>LDA_04</td>\n",
       "      <td>0.000000</td>\n",
       "    </tr>\n",
       "    <tr>\n",
       "      <th>43</th>\n",
       "      <td>global_subjectivity</td>\n",
       "      <td>0.000000</td>\n",
       "    </tr>\n",
       "    <tr>\n",
       "      <th>44</th>\n",
       "      <td>global_sentiment_polarity</td>\n",
       "      <td>0.000000</td>\n",
       "    </tr>\n",
       "    <tr>\n",
       "      <th>45</th>\n",
       "      <td>global_rate_positive_words</td>\n",
       "      <td>0.000000</td>\n",
       "    </tr>\n",
       "    <tr>\n",
       "      <th>46</th>\n",
       "      <td>global_rate_negative_words</td>\n",
       "      <td>0.000000</td>\n",
       "    </tr>\n",
       "    <tr>\n",
       "      <th>47</th>\n",
       "      <td>rate_positive_words</td>\n",
       "      <td>0.000000</td>\n",
       "    </tr>\n",
       "    <tr>\n",
       "      <th>48</th>\n",
       "      <td>rate_negative_words</td>\n",
       "      <td>0.000000</td>\n",
       "    </tr>\n",
       "    <tr>\n",
       "      <th>49</th>\n",
       "      <td>avg_positive_polarity</td>\n",
       "      <td>0.000000</td>\n",
       "    </tr>\n",
       "    <tr>\n",
       "      <th>50</th>\n",
       "      <td>min_positive_polarity</td>\n",
       "      <td>0.000000</td>\n",
       "    </tr>\n",
       "    <tr>\n",
       "      <th>51</th>\n",
       "      <td>max_positive_polarity</td>\n",
       "      <td>0.000000</td>\n",
       "    </tr>\n",
       "    <tr>\n",
       "      <th>52</th>\n",
       "      <td>avg_negative_polarity</td>\n",
       "      <td>0.000000</td>\n",
       "    </tr>\n",
       "    <tr>\n",
       "      <th>53</th>\n",
       "      <td>min_negative_polarity</td>\n",
       "      <td>0.000000</td>\n",
       "    </tr>\n",
       "    <tr>\n",
       "      <th>54</th>\n",
       "      <td>max_negative_polarity</td>\n",
       "      <td>0.000000</td>\n",
       "    </tr>\n",
       "    <tr>\n",
       "      <th>55</th>\n",
       "      <td>title_subjectivity</td>\n",
       "      <td>0.000000</td>\n",
       "    </tr>\n",
       "    <tr>\n",
       "      <th>56</th>\n",
       "      <td>title_sentiment_polarity</td>\n",
       "      <td>0.000000</td>\n",
       "    </tr>\n",
       "    <tr>\n",
       "      <th>30</th>\n",
       "      <td>weekday_is_monday</td>\n",
       "      <td>0.000000</td>\n",
       "    </tr>\n",
       "    <tr>\n",
       "      <th>57</th>\n",
       "      <td>abs_title_subjectivity</td>\n",
       "      <td>0.000000</td>\n",
       "    </tr>\n",
       "    <tr>\n",
       "      <th>58</th>\n",
       "      <td>abs_title_sentiment_polarity</td>\n",
       "      <td>0.000000</td>\n",
       "    </tr>\n",
       "    <tr>\n",
       "      <th>27</th>\n",
       "      <td>self_reference_min_shares</td>\n",
       "      <td>0.000000</td>\n",
       "    </tr>\n",
       "    <tr>\n",
       "      <th>1</th>\n",
       "      <td>n_tokens_title</td>\n",
       "      <td>0.000000</td>\n",
       "    </tr>\n",
       "    <tr>\n",
       "      <th>2</th>\n",
       "      <td>n_tokens_content</td>\n",
       "      <td>0.000000</td>\n",
       "    </tr>\n",
       "    <tr>\n",
       "      <th>3</th>\n",
       "      <td>n_unique_tokens</td>\n",
       "      <td>0.000000</td>\n",
       "    </tr>\n",
       "    <tr>\n",
       "      <th>4</th>\n",
       "      <td>n_non_stop_words</td>\n",
       "      <td>0.000000</td>\n",
       "    </tr>\n",
       "    <tr>\n",
       "      <th>5</th>\n",
       "      <td>n_non_stop_unique_tokens</td>\n",
       "      <td>0.000000</td>\n",
       "    </tr>\n",
       "    <tr>\n",
       "      <th>6</th>\n",
       "      <td>num_hrefs</td>\n",
       "      <td>0.000000</td>\n",
       "    </tr>\n",
       "    <tr>\n",
       "      <th>7</th>\n",
       "      <td>num_self_hrefs</td>\n",
       "      <td>0.000000</td>\n",
       "    </tr>\n",
       "    <tr>\n",
       "      <th>8</th>\n",
       "      <td>num_imgs</td>\n",
       "      <td>0.000000</td>\n",
       "    </tr>\n",
       "    <tr>\n",
       "      <th>9</th>\n",
       "      <td>num_videos</td>\n",
       "      <td>0.000000</td>\n",
       "    </tr>\n",
       "    <tr>\n",
       "      <th>10</th>\n",
       "      <td>average_token_length</td>\n",
       "      <td>0.000000</td>\n",
       "    </tr>\n",
       "    <tr>\n",
       "      <th>11</th>\n",
       "      <td>num_keywords</td>\n",
       "      <td>0.000000</td>\n",
       "    </tr>\n",
       "    <tr>\n",
       "      <th>12</th>\n",
       "      <td>data_channel_is_lifestyle</td>\n",
       "      <td>0.000000</td>\n",
       "    </tr>\n",
       "    <tr>\n",
       "      <th>13</th>\n",
       "      <td>data_channel_is_entertainment</td>\n",
       "      <td>0.000000</td>\n",
       "    </tr>\n",
       "    <tr>\n",
       "      <th>14</th>\n",
       "      <td>data_channel_is_bus</td>\n",
       "      <td>0.000000</td>\n",
       "    </tr>\n",
       "    <tr>\n",
       "      <th>15</th>\n",
       "      <td>data_channel_is_socmed</td>\n",
       "      <td>0.000000</td>\n",
       "    </tr>\n",
       "    <tr>\n",
       "      <th>16</th>\n",
       "      <td>data_channel_is_tech</td>\n",
       "      <td>0.000000</td>\n",
       "    </tr>\n",
       "    <tr>\n",
       "      <th>17</th>\n",
       "      <td>data_channel_is_world</td>\n",
       "      <td>0.000000</td>\n",
       "    </tr>\n",
       "    <tr>\n",
       "      <th>18</th>\n",
       "      <td>kw_min_min</td>\n",
       "      <td>0.000000</td>\n",
       "    </tr>\n",
       "    <tr>\n",
       "      <th>19</th>\n",
       "      <td>kw_max_min</td>\n",
       "      <td>0.000000</td>\n",
       "    </tr>\n",
       "    <tr>\n",
       "      <th>20</th>\n",
       "      <td>kw_avg_min</td>\n",
       "      <td>0.000000</td>\n",
       "    </tr>\n",
       "    <tr>\n",
       "      <th>21</th>\n",
       "      <td>kw_min_max</td>\n",
       "      <td>0.000000</td>\n",
       "    </tr>\n",
       "    <tr>\n",
       "      <th>22</th>\n",
       "      <td>kw_max_max</td>\n",
       "      <td>0.000000</td>\n",
       "    </tr>\n",
       "    <tr>\n",
       "      <th>23</th>\n",
       "      <td>kw_avg_max</td>\n",
       "      <td>0.000000</td>\n",
       "    </tr>\n",
       "    <tr>\n",
       "      <th>24</th>\n",
       "      <td>kw_min_avg</td>\n",
       "      <td>0.000000</td>\n",
       "    </tr>\n",
       "    <tr>\n",
       "      <th>25</th>\n",
       "      <td>kw_max_avg</td>\n",
       "      <td>0.000000</td>\n",
       "    </tr>\n",
       "    <tr>\n",
       "      <th>28</th>\n",
       "      <td>self_reference_max_shares</td>\n",
       "      <td>0.000000</td>\n",
       "    </tr>\n",
       "    <tr>\n",
       "      <th>29</th>\n",
       "      <td>self_reference_avg_sharess</td>\n",
       "      <td>0.091557</td>\n",
       "    </tr>\n",
       "    <tr>\n",
       "      <th>40</th>\n",
       "      <td>LDA_02</td>\n",
       "      <td>0.113578</td>\n",
       "    </tr>\n",
       "    <tr>\n",
       "      <th>26</th>\n",
       "      <td>kw_avg_avg</td>\n",
       "      <td>0.794865</td>\n",
       "    </tr>\n",
       "  </tbody>\n",
       "</table>\n",
       "</div>"
      ],
      "text/plain": [
       "                          feature  importance\n",
       "0                       timedelta    0.000000\n",
       "31             weekday_is_tuesday    0.000000\n",
       "32           weekday_is_wednesday    0.000000\n",
       "33            weekday_is_thursday    0.000000\n",
       "34              weekday_is_friday    0.000000\n",
       "35            weekday_is_saturday    0.000000\n",
       "36              weekday_is_sunday    0.000000\n",
       "37                     is_weekend    0.000000\n",
       "38                         LDA_00    0.000000\n",
       "39                         LDA_01    0.000000\n",
       "41                         LDA_03    0.000000\n",
       "42                         LDA_04    0.000000\n",
       "43            global_subjectivity    0.000000\n",
       "44      global_sentiment_polarity    0.000000\n",
       "45     global_rate_positive_words    0.000000\n",
       "46     global_rate_negative_words    0.000000\n",
       "47            rate_positive_words    0.000000\n",
       "48            rate_negative_words    0.000000\n",
       "49          avg_positive_polarity    0.000000\n",
       "50          min_positive_polarity    0.000000\n",
       "51          max_positive_polarity    0.000000\n",
       "52          avg_negative_polarity    0.000000\n",
       "53          min_negative_polarity    0.000000\n",
       "54          max_negative_polarity    0.000000\n",
       "55             title_subjectivity    0.000000\n",
       "56       title_sentiment_polarity    0.000000\n",
       "30              weekday_is_monday    0.000000\n",
       "57         abs_title_subjectivity    0.000000\n",
       "58   abs_title_sentiment_polarity    0.000000\n",
       "27      self_reference_min_shares    0.000000\n",
       "1                  n_tokens_title    0.000000\n",
       "2                n_tokens_content    0.000000\n",
       "3                 n_unique_tokens    0.000000\n",
       "4                n_non_stop_words    0.000000\n",
       "5        n_non_stop_unique_tokens    0.000000\n",
       "6                       num_hrefs    0.000000\n",
       "7                  num_self_hrefs    0.000000\n",
       "8                        num_imgs    0.000000\n",
       "9                      num_videos    0.000000\n",
       "10           average_token_length    0.000000\n",
       "11                   num_keywords    0.000000\n",
       "12      data_channel_is_lifestyle    0.000000\n",
       "13  data_channel_is_entertainment    0.000000\n",
       "14            data_channel_is_bus    0.000000\n",
       "15         data_channel_is_socmed    0.000000\n",
       "16           data_channel_is_tech    0.000000\n",
       "17          data_channel_is_world    0.000000\n",
       "18                     kw_min_min    0.000000\n",
       "19                     kw_max_min    0.000000\n",
       "20                     kw_avg_min    0.000000\n",
       "21                     kw_min_max    0.000000\n",
       "22                     kw_max_max    0.000000\n",
       "23                     kw_avg_max    0.000000\n",
       "24                     kw_min_avg    0.000000\n",
       "25                     kw_max_avg    0.000000\n",
       "28      self_reference_max_shares    0.000000\n",
       "29     self_reference_avg_sharess    0.091557\n",
       "40                         LDA_02    0.113578\n",
       "26                     kw_avg_avg    0.794865"
      ]
     },
     "execution_count": 258,
     "metadata": {},
     "output_type": "execute_result"
    }
   ],
   "source": [
    "# Uso de la función .feature_importances_ para obtener la importancia de cada variable\n",
    "print(X.columns)\n",
    "feature_cols=X.columns\n",
    "pd.DataFrame({'feature':feature_cols, 'importance':clf.feature_importances_}).sort_values('importance')"
   ]
  },
  {
   "cell_type": "code",
   "execution_count": null,
   "metadata": {},
   "outputs": [],
   "source": []
  },
  {
   "cell_type": "code",
   "execution_count": 259,
   "metadata": {},
   "outputs": [
    {
     "data": {
      "text/plain": [
       "count    10.000000\n",
       "mean      0.635333\n",
       "std       0.018186\n",
       "min       0.610000\n",
       "25%       0.624167\n",
       "50%       0.631667\n",
       "75%       0.645000\n",
       "max       0.668333\n",
       "dtype: float64"
      ]
     },
     "execution_count": 259,
     "metadata": {},
     "output_type": "execute_result"
    }
   ],
   "source": [
    "# Impresión de resultados de desemepeño del árbol de decisión\n",
    "pd.Series(cross_val_score(clf, X, y, cv=10)).describe()"
   ]
  },
  {
   "cell_type": "code",
   "execution_count": null,
   "metadata": {},
   "outputs": [],
   "source": []
  },
  {
   "cell_type": "code",
   "execution_count": 261,
   "metadata": {},
   "outputs": [
    {
     "name": "stdout",
     "output_type": "stream",
     "text": [
      "accuracy: 0.6125 f1_score: 0.6141078838174274\n"
     ]
    }
   ],
   "source": [
    "accuracy = accuracy_score(y_test, y_pred)\n",
    "f1 = f1_score(y_test, y_pred) \n",
    "print(\"accuracy:\",accuracy,\"f1_score:\",f1)"
   ]
  },
  {
   "cell_type": "code",
   "execution_count": null,
   "metadata": {},
   "outputs": [],
   "source": []
  },
  {
   "cell_type": "code",
   "execution_count": null,
   "metadata": {},
   "outputs": [],
   "source": []
  },
  {
   "cell_type": "markdown",
   "metadata": {},
   "source": [
    "Regrsion logistica"
   ]
  },
  {
   "cell_type": "code",
   "execution_count": null,
   "metadata": {},
   "outputs": [],
   "source": []
  },
  {
   "cell_type": "code",
   "execution_count": 262,
   "metadata": {},
   "outputs": [
    {
     "name": "stdout",
     "output_type": "stream",
     "text": [
      "accuracy: 0.6125 f1_score: 0.6141078838174274\n"
     ]
    }
   ],
   "source": [
    "model = LogisticRegression()\n",
    "model.fit(X_train, y_train)  \n",
    "y_pred = model.predict(X_test)\n",
    "accuracy = accuracy_score(y_test, y_pred)\n",
    "f1 = f1_score(y_test, y_pred) \n",
    "print(\"accuracy:\",accuracy,\"f1_score:\",f1)"
   ]
  },
  {
   "cell_type": "code",
   "execution_count": null,
   "metadata": {},
   "outputs": [],
   "source": []
  },
  {
   "cell_type": "code",
   "execution_count": null,
   "metadata": {},
   "outputs": [],
   "source": []
  },
  {
   "cell_type": "code",
   "execution_count": null,
   "metadata": {},
   "outputs": [],
   "source": []
  },
  {
   "cell_type": "code",
   "execution_count": null,
   "metadata": {},
   "outputs": [],
   "source": []
  },
  {
   "cell_type": "code",
   "execution_count": null,
   "metadata": {},
   "outputs": [],
   "source": []
  },
  {
   "cell_type": "code",
   "execution_count": null,
   "metadata": {},
   "outputs": [],
   "source": []
  },
  {
   "cell_type": "code",
   "execution_count": null,
   "metadata": {},
   "outputs": [],
   "source": []
  },
  {
   "cell_type": "code",
   "execution_count": null,
   "metadata": {},
   "outputs": [],
   "source": []
  },
  {
   "cell_type": "code",
   "execution_count": null,
   "metadata": {},
   "outputs": [],
   "source": []
  },
  {
   "cell_type": "code",
   "execution_count": null,
   "metadata": {},
   "outputs": [],
   "source": []
  },
  {
   "cell_type": "code",
   "execution_count": null,
   "metadata": {},
   "outputs": [],
   "source": []
  },
  {
   "cell_type": "code",
   "execution_count": null,
   "metadata": {},
   "outputs": [],
   "source": []
  },
  {
   "cell_type": "code",
   "execution_count": null,
   "metadata": {},
   "outputs": [],
   "source": []
  },
  {
   "cell_type": "code",
   "execution_count": null,
   "metadata": {},
   "outputs": [],
   "source": []
  },
  {
   "cell_type": "code",
   "execution_count": null,
   "metadata": {},
   "outputs": [],
   "source": []
  },
  {
   "cell_type": "code",
   "execution_count": null,
   "metadata": {},
   "outputs": [],
   "source": []
  },
  {
   "cell_type": "code",
   "execution_count": null,
   "metadata": {},
   "outputs": [],
   "source": []
  },
  {
   "cell_type": "markdown",
   "metadata": {},
   "source": [
    "### Punto 7 - Votación Mayoritaria\n",
    "En la celda 7 elabore un esamble con la metodología de **Votación mayoritaria** compuesto por 300 muestras bagged para cada uno de los siguientes escenarios:\n",
    "\n",
    "-100 árboles de decisión donde max_depth tome un valor de su elección\\\n",
    "-100 árboles de decisión donde min_samples_leaf tome un valor de su elección\\\n",
    "-100 regresiones logísticas\n",
    "\n",
    "Evalúe cada uno de los tres modelos de manera independiente utilizando las métricas de Accuracy y F1-Score, luego evalúe el ensamble de modelos y compare los resultados. "
   ]
  },
  {
   "cell_type": "code",
   "execution_count": 263,
   "metadata": {},
   "outputs": [],
   "source": [
    "# Creación de 100 muestras de bootstrap\n",
    "n_estimators = 100\n",
    "np.random.seed(123)\n",
    "\n",
    "n_samples = X_train.shape[0]\n",
    "samples = [np.random.choice(a=n_samples, size=n_samples, replace=True) for _ in range(n_estimators)]"
   ]
  },
  {
   "cell_type": "code",
   "execution_count": null,
   "metadata": {},
   "outputs": [],
   "source": []
  },
  {
   "cell_type": "code",
   "execution_count": 264,
   "metadata": {},
   "outputs": [],
   "source": [
    "# Entrenamiento de 100 modelos con las 100 muestras boostrap\n",
    "\n",
    "from sklearn.tree import DecisionTreeClassifier\n",
    "\n",
    "np.random.seed(123) \n",
    "seeds = np.random.randint(1, 10000, size=n_estimators)\n",
    "\n",
    "trees = {}\n",
    "for i in range(n_estimators):\n",
    "    trees[i] = DecisionTreeClassifier(max_features=\"sqrt\", max_depth=2, random_state=seeds[i])\n",
    "    trees[i].fit(X_train.iloc[samples[i]], y_train.iloc[samples[i]])"
   ]
  },
  {
   "cell_type": "code",
   "execution_count": null,
   "metadata": {},
   "outputs": [],
   "source": []
  },
  {
   "cell_type": "code",
   "execution_count": null,
   "metadata": {},
   "outputs": [],
   "source": []
  },
  {
   "cell_type": "code",
   "execution_count": 265,
   "metadata": {},
   "outputs": [
    {
     "data": {
      "text/html": [
       "<div>\n",
       "<style scoped>\n",
       "    .dataframe tbody tr th:only-of-type {\n",
       "        vertical-align: middle;\n",
       "    }\n",
       "\n",
       "    .dataframe tbody tr th {\n",
       "        vertical-align: top;\n",
       "    }\n",
       "\n",
       "    .dataframe thead th {\n",
       "        text-align: right;\n",
       "    }\n",
       "</style>\n",
       "<table border=\"1\" class=\"dataframe\">\n",
       "  <thead>\n",
       "    <tr style=\"text-align: right;\">\n",
       "      <th></th>\n",
       "      <th>0</th>\n",
       "      <th>1</th>\n",
       "      <th>2</th>\n",
       "      <th>3</th>\n",
       "      <th>4</th>\n",
       "      <th>5</th>\n",
       "      <th>6</th>\n",
       "      <th>7</th>\n",
       "      <th>8</th>\n",
       "      <th>9</th>\n",
       "      <th>...</th>\n",
       "      <th>90</th>\n",
       "      <th>91</th>\n",
       "      <th>92</th>\n",
       "      <th>93</th>\n",
       "      <th>94</th>\n",
       "      <th>95</th>\n",
       "      <th>96</th>\n",
       "      <th>97</th>\n",
       "      <th>98</th>\n",
       "      <th>99</th>\n",
       "    </tr>\n",
       "  </thead>\n",
       "  <tbody>\n",
       "    <tr>\n",
       "      <th>1113</th>\n",
       "      <td>1</td>\n",
       "      <td>1</td>\n",
       "      <td>1</td>\n",
       "      <td>1</td>\n",
       "      <td>1</td>\n",
       "      <td>1</td>\n",
       "      <td>1</td>\n",
       "      <td>1</td>\n",
       "      <td>1</td>\n",
       "      <td>1</td>\n",
       "      <td>...</td>\n",
       "      <td>1</td>\n",
       "      <td>1</td>\n",
       "      <td>1</td>\n",
       "      <td>0</td>\n",
       "      <td>1</td>\n",
       "      <td>1</td>\n",
       "      <td>1</td>\n",
       "      <td>1</td>\n",
       "      <td>1</td>\n",
       "      <td>1</td>\n",
       "    </tr>\n",
       "    <tr>\n",
       "      <th>3639</th>\n",
       "      <td>1</td>\n",
       "      <td>1</td>\n",
       "      <td>1</td>\n",
       "      <td>1</td>\n",
       "      <td>1</td>\n",
       "      <td>1</td>\n",
       "      <td>0</td>\n",
       "      <td>1</td>\n",
       "      <td>1</td>\n",
       "      <td>1</td>\n",
       "      <td>...</td>\n",
       "      <td>1</td>\n",
       "      <td>1</td>\n",
       "      <td>1</td>\n",
       "      <td>0</td>\n",
       "      <td>1</td>\n",
       "      <td>1</td>\n",
       "      <td>1</td>\n",
       "      <td>0</td>\n",
       "      <td>1</td>\n",
       "      <td>1</td>\n",
       "    </tr>\n",
       "    <tr>\n",
       "      <th>3383</th>\n",
       "      <td>1</td>\n",
       "      <td>1</td>\n",
       "      <td>1</td>\n",
       "      <td>0</td>\n",
       "      <td>1</td>\n",
       "      <td>0</td>\n",
       "      <td>0</td>\n",
       "      <td>0</td>\n",
       "      <td>1</td>\n",
       "      <td>1</td>\n",
       "      <td>...</td>\n",
       "      <td>1</td>\n",
       "      <td>0</td>\n",
       "      <td>1</td>\n",
       "      <td>0</td>\n",
       "      <td>1</td>\n",
       "      <td>1</td>\n",
       "      <td>1</td>\n",
       "      <td>0</td>\n",
       "      <td>1</td>\n",
       "      <td>1</td>\n",
       "    </tr>\n",
       "    <tr>\n",
       "      <th>836</th>\n",
       "      <td>1</td>\n",
       "      <td>1</td>\n",
       "      <td>1</td>\n",
       "      <td>1</td>\n",
       "      <td>1</td>\n",
       "      <td>1</td>\n",
       "      <td>0</td>\n",
       "      <td>0</td>\n",
       "      <td>1</td>\n",
       "      <td>1</td>\n",
       "      <td>...</td>\n",
       "      <td>1</td>\n",
       "      <td>1</td>\n",
       "      <td>1</td>\n",
       "      <td>0</td>\n",
       "      <td>1</td>\n",
       "      <td>1</td>\n",
       "      <td>1</td>\n",
       "      <td>0</td>\n",
       "      <td>1</td>\n",
       "      <td>1</td>\n",
       "    </tr>\n",
       "    <tr>\n",
       "      <th>3262</th>\n",
       "      <td>1</td>\n",
       "      <td>1</td>\n",
       "      <td>1</td>\n",
       "      <td>1</td>\n",
       "      <td>1</td>\n",
       "      <td>1</td>\n",
       "      <td>1</td>\n",
       "      <td>0</td>\n",
       "      <td>1</td>\n",
       "      <td>1</td>\n",
       "      <td>...</td>\n",
       "      <td>1</td>\n",
       "      <td>1</td>\n",
       "      <td>1</td>\n",
       "      <td>1</td>\n",
       "      <td>1</td>\n",
       "      <td>1</td>\n",
       "      <td>1</td>\n",
       "      <td>1</td>\n",
       "      <td>0</td>\n",
       "      <td>1</td>\n",
       "    </tr>\n",
       "  </tbody>\n",
       "</table>\n",
       "<p>5 rows × 100 columns</p>\n",
       "</div>"
      ],
      "text/plain": [
       "     0  1  2  3  4  5  6  7  8  9   ... 90 91 92 93 94 95 96 97 98 99\n",
       "1113  1  1  1  1  1  1  1  1  1  1  ...  1  1  1  0  1  1  1  1  1  1\n",
       "3639  1  1  1  1  1  1  0  1  1  1  ...  1  1  1  0  1  1  1  0  1  1\n",
       "3383  1  1  1  0  1  0  0  0  1  1  ...  1  0  1  0  1  1  1  0  1  1\n",
       "836   1  1  1  1  1  1  0  0  1  1  ...  1  1  1  0  1  1  1  0  1  1\n",
       "3262  1  1  1  1  1  1  1  0  1  1  ...  1  1  1  1  1  1  1  1  0  1\n",
       "\n",
       "[5 rows x 100 columns]"
      ]
     },
     "execution_count": 265,
     "metadata": {},
     "output_type": "execute_result"
    }
   ],
   "source": [
    "# Predicción para los datos del set de test con cada modelo\n",
    "y_pred_df = pd.DataFrame(index=X_test.index, columns=list(range(n_estimators)))\n",
    "for i in range(n_estimators):\n",
    "    y_pred_df.iloc[:, i] = trees[i].predict(X_test)\n",
    "\n",
    "y_pred_df.head()"
   ]
  },
  {
   "cell_type": "code",
   "execution_count": null,
   "metadata": {},
   "outputs": [],
   "source": []
  },
  {
   "cell_type": "code",
   "execution_count": null,
   "metadata": {},
   "outputs": [],
   "source": []
  },
  {
   "cell_type": "code",
   "execution_count": 266,
   "metadata": {},
   "outputs": [
    {
     "data": {
      "text/plain": [
       "1113    90\n",
       "3639    84\n",
       "3383    61\n",
       "836     70\n",
       "3262    82\n",
       "4400    25\n",
       "4994    80\n",
       "2464    56\n",
       "5935    50\n",
       "4741    16\n",
       "dtype: object"
      ]
     },
     "execution_count": 266,
     "metadata": {},
     "output_type": "execute_result"
    }
   ],
   "source": [
    "# Impresión de la cantidad de modelos que predijeron 1 para 10 observaciones\n",
    "y_pred_df.sum(axis=1)[:10]"
   ]
  },
  {
   "cell_type": "code",
   "execution_count": null,
   "metadata": {},
   "outputs": [],
   "source": []
  },
  {
   "cell_type": "code",
   "execution_count": null,
   "metadata": {},
   "outputs": [],
   "source": []
  },
  {
   "cell_type": "code",
   "execution_count": 269,
   "metadata": {},
   "outputs": [
    {
     "data": {
      "text/plain": [
       "(0.6408094435075886, 0.645)"
      ]
     },
     "execution_count": 269,
     "metadata": {},
     "output_type": "execute_result"
    }
   ],
   "source": [
    "# Votación mayoritaria\n",
    "y_pred = (y_pred_df.sum(axis=1) >= (n_estimators / 2)).astype(int)\n",
    "\n",
    "# Desempeño al hacer votación mayoritaria\n",
    "from sklearn import metrics\n",
    "metrics.f1_score(y_pred, y_test), metrics.accuracy_score(y_pred, y_test)"
   ]
  },
  {
   "cell_type": "code",
   "execution_count": null,
   "metadata": {},
   "outputs": [],
   "source": []
  },
  {
   "cell_type": "code",
   "execution_count": null,
   "metadata": {},
   "outputs": [],
   "source": []
  },
  {
   "cell_type": "markdown",
   "metadata": {},
   "source": [
    "100 arboles usando min_samples_leaf"
   ]
  },
  {
   "cell_type": "code",
   "execution_count": 222,
   "metadata": {},
   "outputs": [],
   "source": [
    "from sklearn.tree import DecisionTreeClassifier\n",
    "from sklearn.model_selection import GridSearchCV"
   ]
  },
  {
   "cell_type": "code",
   "execution_count": 233,
   "metadata": {},
   "outputs": [
    {
     "name": "stdout",
     "output_type": "stream",
     "text": [
      "Mejor valor para min_samples_leaf: 400\n",
      "Puntaje F1 correspondiente al mejor valor: 0.6318452718315815\n"
     ]
    }
   ],
   "source": [
    "param_grid = {'min_samples_leaf': [1, 2, 5, 10, 20,30,40,50,60,100,200,300,350,400,450,500,600,700,800,900,1000,2000]}\n",
    "tree_classifier = DecisionTreeClassifier()\n",
    "grid_search = GridSearchCV(tree_classifier, param_grid, cv=5, scoring='f1')\n",
    "grid_search.fit(X_train, y_train)\n",
    "print(\"Mejor valor para min_samples_leaf:\", grid_search.best_params_['min_samples_leaf'])\n",
    "print(\"Puntaje F1 correspondiente al mejor valor:\", grid_search.best_score_)"
   ]
  },
  {
   "cell_type": "markdown",
   "metadata": {},
   "source": [
    "100 regresiones logisticas"
   ]
  },
  {
   "cell_type": "code",
   "execution_count": 234,
   "metadata": {},
   "outputs": [],
   "source": [
    "from sklearn.linear_model import LogisticRegression\n",
    "from sklearn.model_selection import train_test_split\n",
    "from sklearn.metrics import accuracy_score, f1_score"
   ]
  },
  {
   "cell_type": "code",
   "execution_count": 238,
   "metadata": {},
   "outputs": [],
   "source": [
    "models = []\n",
    "accuracies = []\n",
    "f1_scores = []\n",
    "for _ in range(100):\n",
    "    X_train, X_test, y_train, y_test = train_test_split(X, y, test_size=0.2, random_state=_)\n",
    "    model = LogisticRegression()\n",
    "    model.fit(X_train, y_train)  \n",
    "    models.append(model)\n",
    "    y_pred = model.predict(X_test)\n",
    "    accuracy = accuracy_score(y_test, y_pred)\n",
    "    f1 = f1_score(y_test, y_pred) \n",
    "    accuracies.append(accuracy)\n",
    "    f1_scores.append(f1)"
   ]
  },
  {
   "cell_type": "code",
   "execution_count": 279,
   "metadata": {},
   "outputs": [
    {
     "data": {
      "text/plain": [
       "0.6090653436356872"
      ]
     },
     "execution_count": 279,
     "metadata": {},
     "output_type": "execute_result"
    }
   ],
   "source": [
    "import statistics\n",
    "np.mean(f1_scores)"
   ]
  },
  {
   "cell_type": "code",
   "execution_count": null,
   "metadata": {},
   "outputs": [],
   "source": []
  },
  {
   "cell_type": "code",
   "execution_count": 239,
   "metadata": {},
   "outputs": [
    {
     "data": {
      "text/plain": [
       "[0.6277128547579299,\n",
       " 0.6249999999999999,\n",
       " 0.6110638297872341,\n",
       " 0.617056856187291,\n",
       " 0.5872340425531913,\n",
       " 0.5986509274873524,\n",
       " 0.6582491582491583,\n",
       " 0.6142259414225942,\n",
       " 0.6225165562913907,\n",
       " 0.5986159169550171,\n",
       " 0.6030150753768844,\n",
       " 0.6270627062706271,\n",
       " 0.5940594059405941,\n",
       " 0.6159110350727117,\n",
       " 0.6117647058823529,\n",
       " 0.6188870151770657,\n",
       " 0.6357504215851603,\n",
       " 0.6212489862124897,\n",
       " 0.62248322147651,\n",
       " 0.5853242320819112,\n",
       " 0.6209744013212222,\n",
       " 0.6037414965986394,\n",
       " 0.6220735785953178,\n",
       " 0.5914069081718618,\n",
       " 0.6040609137055837,\n",
       " 0.6083262531860663,\n",
       " 0.6017543859649123,\n",
       " 0.6095717884130983,\n",
       " 0.5932932072227,\n",
       " 0.5924006908462868,\n",
       " 0.606312292358804,\n",
       " 0.5938037865748709,\n",
       " 0.626916524701874,\n",
       " 0.6033898305084746,\n",
       " 0.6282973621103118,\n",
       " 0.622112211221122,\n",
       " 0.6444073455759598,\n",
       " 0.6196943972835314,\n",
       " 0.5784982935153584,\n",
       " 0.6068734283319365,\n",
       " 0.6100254885301614,\n",
       " 0.5694799658994032,\n",
       " 0.6108714408973253,\n",
       " 0.607232968881413,\n",
       " 0.5850694444444445,\n",
       " 0.5903614457831327,\n",
       " 0.6149957877000842,\n",
       " 0.6210873146622734,\n",
       " 0.6055646481178396,\n",
       " 0.6361323155216285,\n",
       " 0.6095076400679117,\n",
       " 0.5951557093425605,\n",
       " 0.6182432432432433,\n",
       " 0.6282271944922547,\n",
       " 0.612736660929432,\n",
       " 0.6131756756756757,\n",
       " 0.6131996658312447,\n",
       " 0.5879310344827586,\n",
       " 0.5991489361702127,\n",
       " 0.5857385398981325,\n",
       " 0.6325503355704698,\n",
       " 0.625615763546798,\n",
       " 0.5871559633027523,\n",
       " 0.6041308089500862,\n",
       " 0.6243739565943239,\n",
       " 0.6208053691275168,\n",
       " 0.613991769547325,\n",
       " 0.5670628183361629,\n",
       " 0.6204013377926422,\n",
       " 0.6185216652506372,\n",
       " 0.6112554112554113,\n",
       " 0.5837651122625216,\n",
       " 0.5815722738799662,\n",
       " 0.6275510204081632,\n",
       " 0.6192893401015229,\n",
       " 0.583404619332763,\n",
       " 0.6035502958579883,\n",
       " 0.6131004366812226,\n",
       " 0.6058519793459552,\n",
       " 0.622371740958789,\n",
       " 0.5962521294718909,\n",
       " 0.6075313807531381,\n",
       " 0.6169154228855722,\n",
       " 0.6161532056619484,\n",
       " 0.5983050847457627,\n",
       " 0.6160337552742615,\n",
       " 0.5936698032506416,\n",
       " 0.6192109777015438,\n",
       " 0.6062176165803109,\n",
       " 0.6292320396366639,\n",
       " 0.6042918454935622,\n",
       " 0.5961376994122586,\n",
       " 0.6032013479359731,\n",
       " 0.605911330049261,\n",
       " 0.638228055783429,\n",
       " 0.5876288659793814,\n",
       " 0.6145069274653627,\n",
       " 0.5749559082892416,\n",
       " 0.6140939597315436,\n",
       " 0.6141078838174274]"
      ]
     },
     "execution_count": 239,
     "metadata": {},
     "output_type": "execute_result"
    }
   ],
   "source": [
    "f1_scores"
   ]
  },
  {
   "cell_type": "code",
   "execution_count": null,
   "metadata": {},
   "outputs": [],
   "source": []
  },
  {
   "cell_type": "code",
   "execution_count": null,
   "metadata": {},
   "outputs": [],
   "source": []
  },
  {
   "cell_type": "code",
   "execution_count": 240,
   "metadata": {},
   "outputs": [
    {
     "data": {
      "text/plain": [
       "[0.6283333333333333,\n",
       " 0.625,\n",
       " 0.6191666666666666,\n",
       " 0.6183333333333333,\n",
       " 0.5958333333333333,\n",
       " 0.6033333333333334,\n",
       " 0.6616666666666666,\n",
       " 0.6158333333333333,\n",
       " 0.62,\n",
       " 0.6133333333333333,\n",
       " 0.605,\n",
       " 0.6233333333333333,\n",
       " 0.59,\n",
       " 0.6258333333333334,\n",
       " 0.615,\n",
       " 0.6233333333333333,\n",
       " 0.64,\n",
       " 0.6108333333333333,\n",
       " 0.625,\n",
       " 0.595,\n",
       " 0.6175,\n",
       " 0.6116666666666667,\n",
       " 0.6233333333333333,\n",
       " 0.5958333333333333,\n",
       " 0.61,\n",
       " 0.6158333333333333,\n",
       " 0.6216666666666667,\n",
       " 0.6125,\n",
       " 0.6058333333333333,\n",
       " 0.6066666666666667,\n",
       " 0.605,\n",
       " 0.6066666666666667,\n",
       " 0.635,\n",
       " 0.61,\n",
       " 0.6125,\n",
       " 0.6183333333333333,\n",
       " 0.645,\n",
       " 0.6266666666666667,\n",
       " 0.5883333333333334,\n",
       " 0.6091666666666666,\n",
       " 0.6175,\n",
       " 0.5791666666666667,\n",
       " 0.6241666666666666,\n",
       " 0.6108333333333333,\n",
       " 0.6016666666666667,\n",
       " 0.6033333333333334,\n",
       " 0.6191666666666666,\n",
       " 0.6166666666666667,\n",
       " 0.5983333333333334,\n",
       " 0.6425,\n",
       " 0.6166666666666667,\n",
       " 0.61,\n",
       " 0.6233333333333333,\n",
       " 0.64,\n",
       " 0.625,\n",
       " 0.6183333333333333,\n",
       " 0.6141666666666666,\n",
       " 0.6016666666666667,\n",
       " 0.6075,\n",
       " 0.5933333333333334,\n",
       " 0.635,\n",
       " 0.62,\n",
       " 0.5875,\n",
       " 0.6166666666666667,\n",
       " 0.625,\n",
       " 0.6233333333333333,\n",
       " 0.6091666666666666,\n",
       " 0.575,\n",
       " 0.6216666666666667,\n",
       " 0.6258333333333334,\n",
       " 0.6258333333333334,\n",
       " 0.5983333333333334,\n",
       " 0.5875,\n",
       " 0.635,\n",
       " 0.625,\n",
       " 0.5941666666666666,\n",
       " 0.6091666666666666,\n",
       " 0.6308333333333334,\n",
       " 0.6183333333333333,\n",
       " 0.6258333333333334,\n",
       " 0.605,\n",
       " 0.6091666666666666,\n",
       " 0.615,\n",
       " 0.6158333333333333,\n",
       " 0.605,\n",
       " 0.6208333333333333,\n",
       " 0.6041666666666666,\n",
       " 0.63,\n",
       " 0.62,\n",
       " 0.6258333333333334,\n",
       " 0.6158333333333333,\n",
       " 0.5991666666666666,\n",
       " 0.6075,\n",
       " 0.6,\n",
       " 0.6325,\n",
       " 0.6,\n",
       " 0.6058333333333333,\n",
       " 0.5983333333333334,\n",
       " 0.6166666666666667,\n",
       " 0.6125]"
      ]
     },
     "execution_count": 240,
     "metadata": {},
     "output_type": "execute_result"
    }
   ],
   "source": [
    "accuracies"
   ]
  },
  {
   "cell_type": "code",
   "execution_count": 280,
   "metadata": {},
   "outputs": [
    {
     "data": {
      "text/plain": [
       "0.6142333333333334"
      ]
     },
     "execution_count": 280,
     "metadata": {},
     "output_type": "execute_result"
    }
   ],
   "source": [
    "np.mean(accuracies)"
   ]
  },
  {
   "cell_type": "code",
   "execution_count": null,
   "metadata": {},
   "outputs": [],
   "source": []
  },
  {
   "cell_type": "markdown",
   "metadata": {},
   "source": [
    "### Punto 8 - Votación Ponderada\n",
    "En la celda 8 elabore un ensamble con la metodología de **Votación ponderada** compuesto por 300 muestras bagged para los mismos tres escenarios del punto 7. Evalúe los modelos utilizando las métricas de Accuracy y F1-Score"
   ]
  },
  {
   "cell_type": "code",
   "execution_count": 270,
   "metadata": {},
   "outputs": [],
   "source": [
    "# Celda 8\n",
    "samples_oob = []\n",
    "# Obtención de las observaciones fuera de la bolsa \"out-of-bag\" para cada muestra\n",
    "for sample in samples:\n",
    "    samples_oob.append(sorted(set(range(n_samples)) - set(sample)))"
   ]
  },
  {
   "cell_type": "code",
   "execution_count": 271,
   "metadata": {},
   "outputs": [],
   "source": [
    "# Estimación de los errores OOB para cada clasificador\n",
    "errors = np.zeros(n_estimators)\n",
    "\n",
    "for i in range(n_estimators):\n",
    "    y_pred_ = trees[i].predict(X_train.iloc[samples_oob[i]])\n",
    "    errors[i] = 1 - metrics.accuracy_score(y_train.iloc[samples_oob[i]], y_pred_)"
   ]
  },
  {
   "cell_type": "code",
   "execution_count": 272,
   "metadata": {},
   "outputs": [
    {
     "data": {
      "text/plain": [
       "Text(0.5, 1.0, 'OOB error of each tree')"
      ]
     },
     "execution_count": 272,
     "metadata": {},
     "output_type": "execute_result"
    },
    {
     "data": {
      "image/png": "[encoded data removed]",
      "text/plain": [
       "<Figure size 640x480 with 1 Axes>"
      ]
     },
     "metadata": {},
     "output_type": "display_data"
    }
   ],
   "source": [
    "# Visualización de OOB para cada árbol\n",
    "%matplotlib inline\n",
    "import matplotlib.pyplot as plt\n",
    "plt.style.use('fivethirtyeight')\n",
    "\n",
    "plt.scatter(range(n_estimators), errors)\n",
    "plt.xlim([0, n_estimators])\n",
    "plt.title('OOB error of each tree')"
   ]
  },
  {
   "cell_type": "code",
   "execution_count": 273,
   "metadata": {},
   "outputs": [],
   "source": [
    "# Obtención de los pesos alpha de cada modelo de acuerdo al error OOB\n",
    "alpha = (1 - errors) / (1 - errors).sum()"
   ]
  },
  {
   "cell_type": "code",
   "execution_count": 274,
   "metadata": {},
   "outputs": [
    {
     "data": {
      "text/plain": [
       "1113    0.906505\n",
       "3639    0.847585\n",
       "3383    0.624618\n",
       "836     0.712686\n",
       "3262    0.829278\n",
       "4400    0.240762\n",
       "4994    0.810411\n",
       "2464    0.578029\n",
       "5935    0.508218\n",
       "4741    0.153942\n",
       "4060    0.758167\n",
       "4434     0.27239\n",
       "5920    0.283894\n",
       "856     0.047103\n",
       "3665    0.303354\n",
       "2471    0.242941\n",
       "2396    0.160387\n",
       "5695    0.183066\n",
       "2431     0.70338\n",
       "174      0.27374\n",
       "dtype: object"
      ]
     },
     "execution_count": 274,
     "metadata": {},
     "output_type": "execute_result"
    }
   ],
   "source": [
    "# Ponderación de las predicciones con los pesos alpha\n",
    "weighted_sum_1 = ((y_pred_df) * alpha).sum(axis=1)\n",
    "weighted_sum_1.head(20)\n"
   ]
  },
  {
   "cell_type": "code",
   "execution_count": 276,
   "metadata": {},
   "outputs": [
    {
     "data": {
      "text/plain": [
       "(0.6418918918918919, 0.6466666666666666)"
      ]
     },
     "execution_count": 276,
     "metadata": {},
     "output_type": "execute_result"
    }
   ],
   "source": [
    "# Desempeño al hacer votación ponderada\n",
    "y_pred = (weighted_sum_1 >= 0.5).astype(int)\n",
    "metrics.f1_score(y_pred, y_test), metrics.accuracy_score(y_pred, y_test)"
   ]
  },
  {
   "cell_type": "code",
   "execution_count": null,
   "metadata": {},
   "outputs": [],
   "source": []
  },
  {
   "cell_type": "code",
   "execution_count": null,
   "metadata": {},
   "outputs": [],
   "source": []
  },
  {
   "cell_type": "markdown",
   "metadata": {},
   "source": [
    "### Punto 9 - Comparación y análisis de resultados\n",
    "En la celda 9 comente sobre los resultados obtenidos con las metodologías usadas en los puntos 7 y 8, compare los resultados y enuncie posibles ventajas o desventajas de cada una de ellas."
   ]
  },
  {
   "cell_type": "code",
   "execution_count": null,
   "metadata": {},
   "outputs": [],
   "source": [
    "# Celda 9\n",
    "Los valores de f1 y accuracy obtenidos en la pregunta 7 con votacion mayoritaria\n",
    "-100 árboles de decisión donde max_depth tome un valor de su elección f1 0.6408094435075886,accuracy 0.645\n",
    "-100 árboles de decisión donde min_samples_leaf tome un valor de su elección f1 0.6318452718315815, accuracy\n",
    "-100 regresiones logísticas f1 0.6090653436356872 , accuracy 0.6142333333333334 \n",
    "Los valores de f1 y accuracy obtenidos en la pregunta 8 con votacion ponderada\n",
    "-100 árboles de decisión donde max_depth tome un valor de su elección f1 0.6418918918918919,accuracy 0.6466666666666666\n",
    "\n",
    "Conclusiones:\n",
    "-No entendi como variar las variables min_samples_leaf ni cmo hacer diferente regresion logistica.\n",
    "- De los resultados se puede concluir que el valor de f1 mas alto esta en las regresion logistica mientras que la accuracy mas alta esta en la votacion ponderada.\n"
   ]
  },
  {
   "cell_type": "code",
   "execution_count": null,
   "metadata": {},
   "outputs": [],
   "source": []
  }
 ],
 "metadata": {
  "kernelspec": {
   "display_name": "Python 3 (ipykernel)",
   "language": "python",
   "name": "python3"
  },
  "language_info": {
   "codemirror_mode": {
    "name": "ipython",
    "version": 3
   },
   "file_extension": ".py",
   "mimetype": "text/x-python",
   "name": "python",
   "nbconvert_exporter": "python",
   "pygments_lexer": "ipython3",
   "version": "3.11.7"
  }
 },
 "nbformat": 4,
 "nbformat_minor": 4
}
